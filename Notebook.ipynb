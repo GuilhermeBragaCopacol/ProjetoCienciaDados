{
 "cells": [
  {
   "cell_type": "raw",
   "id": "e29f08ba-cb41-4876-9a0e-9ace89c0f90f",
   "metadata": {},
   "source": [
    "Previsão de Salário\n",
    "\n",
    "Informações sobre o DataSet\n",
    "\n",
    "O dataset possui um total de 14.087 linhas e possui 7 Colunas\n",
    "\n",
    "1) Matrícula - Indentificação do colaborador\n",
    "2) Idade\n",
    "3) Genêro \n",
    "4) Escolaridade\n",
    "5) Cargo\n",
    "6) Anos de Experiência\n",
    "7) Salário"
   ]
  },
  {
   "cell_type": "code",
   "execution_count": 1,
   "id": "54b6bc6a-049c-44c5-9122-b2f56d6a58fb",
   "metadata": {},
   "outputs": [
    {
     "name": "stdout",
     "output_type": "stream",
     "text": [
      "Requirement already satisfied: seaborn in c:\\users\\578915\\appdata\\local\\programs\\python\\python311\\lib\\site-packages (0.12.2)\n",
      "Requirement already satisfied: numpy!=1.24.0,>=1.17 in c:\\users\\578915\\appdata\\local\\programs\\python\\python311\\lib\\site-packages (from seaborn) (1.25.2)\n",
      "Requirement already satisfied: pandas>=0.25 in c:\\users\\578915\\appdata\\local\\programs\\python\\python311\\lib\\site-packages (from seaborn) (2.1.0)\n",
      "Requirement already satisfied: matplotlib!=3.6.1,>=3.1 in c:\\users\\578915\\appdata\\local\\programs\\python\\python311\\lib\\site-packages (from seaborn) (3.7.2)\n",
      "Requirement already satisfied: contourpy>=1.0.1 in c:\\users\\578915\\appdata\\local\\programs\\python\\python311\\lib\\site-packages (from matplotlib!=3.6.1,>=3.1->seaborn) (1.1.0)\n",
      "Requirement already satisfied: cycler>=0.10 in c:\\users\\578915\\appdata\\local\\programs\\python\\python311\\lib\\site-packages (from matplotlib!=3.6.1,>=3.1->seaborn) (0.11.0)\n",
      "Requirement already satisfied: fonttools>=4.22.0 in c:\\users\\578915\\appdata\\local\\programs\\python\\python311\\lib\\site-packages (from matplotlib!=3.6.1,>=3.1->seaborn) (4.42.0)\n",
      "Requirement already satisfied: kiwisolver>=1.0.1 in c:\\users\\578915\\appdata\\local\\programs\\python\\python311\\lib\\site-packages (from matplotlib!=3.6.1,>=3.1->seaborn) (1.4.4)\n",
      "Requirement already satisfied: packaging>=20.0 in c:\\users\\578915\\appdata\\local\\programs\\python\\python311\\lib\\site-packages (from matplotlib!=3.6.1,>=3.1->seaborn) (23.1)\n",
      "Requirement already satisfied: pillow>=6.2.0 in c:\\users\\578915\\appdata\\local\\programs\\python\\python311\\lib\\site-packages (from matplotlib!=3.6.1,>=3.1->seaborn) (10.0.0)\n",
      "Requirement already satisfied: pyparsing<3.1,>=2.3.1 in c:\\users\\578915\\appdata\\local\\programs\\python\\python311\\lib\\site-packages (from matplotlib!=3.6.1,>=3.1->seaborn) (3.0.9)\n",
      "Requirement already satisfied: python-dateutil>=2.7 in c:\\users\\578915\\appdata\\local\\programs\\python\\python311\\lib\\site-packages (from matplotlib!=3.6.1,>=3.1->seaborn) (2.8.2)\n",
      "Requirement already satisfied: pytz>=2020.1 in c:\\users\\578915\\appdata\\local\\programs\\python\\python311\\lib\\site-packages (from pandas>=0.25->seaborn) (2023.3)\n",
      "Requirement already satisfied: tzdata>=2022.1 in c:\\users\\578915\\appdata\\local\\programs\\python\\python311\\lib\\site-packages (from pandas>=0.25->seaborn) (2023.3)\n",
      "Requirement already satisfied: six>=1.5 in c:\\users\\578915\\appdata\\local\\programs\\python\\python311\\lib\\site-packages (from python-dateutil>=2.7->matplotlib!=3.6.1,>=3.1->seaborn) (1.16.0)\n",
      "Note: you may need to restart the kernel to use updated packages.\n"
     ]
    },
    {
     "name": "stderr",
     "output_type": "stream",
     "text": [
      "\n",
      "[notice] A new release of pip is available: 23.2.1 -> 23.3.1\n",
      "[notice] To update, run: python.exe -m pip install --upgrade pip\n"
     ]
    }
   ],
   "source": [
    "pip install seaborn"
   ]
  },
  {
   "cell_type": "code",
   "execution_count": 2,
   "id": "bd9fb9cc-fb25-4e0c-bbb1-f82a8f7f1c2a",
   "metadata": {},
   "outputs": [
    {
     "name": "stdout",
     "output_type": "stream",
     "text": [
      "Requirement already satisfied: scikit-learn in c:\\users\\578915\\appdata\\local\\programs\\python\\python311\\lib\\site-packages (1.3.2)\n",
      "Requirement already satisfied: numpy<2.0,>=1.17.3 in c:\\users\\578915\\appdata\\local\\programs\\python\\python311\\lib\\site-packages (from scikit-learn) (1.25.2)\n",
      "Requirement already satisfied: scipy>=1.5.0 in c:\\users\\578915\\appdata\\local\\programs\\python\\python311\\lib\\site-packages (from scikit-learn) (1.11.2)\n",
      "Requirement already satisfied: joblib>=1.1.1 in c:\\users\\578915\\appdata\\local\\programs\\python\\python311\\lib\\site-packages (from scikit-learn) (1.3.2)\n",
      "Requirement already satisfied: threadpoolctl>=2.0.0 in c:\\users\\578915\\appdata\\local\\programs\\python\\python311\\lib\\site-packages (from scikit-learn) (3.2.0)\n",
      "Note: you may need to restart the kernel to use updated packages.\n"
     ]
    },
    {
     "name": "stderr",
     "output_type": "stream",
     "text": [
      "\n",
      "[notice] A new release of pip is available: 23.2.1 -> 23.3.1\n",
      "[notice] To update, run: python.exe -m pip install --upgrade pip\n"
     ]
    }
   ],
   "source": [
    "pip install -U scikit-learn"
   ]
  },
  {
   "cell_type": "code",
   "execution_count": 3,
   "id": "88771329-e01a-4709-8a09-fe0547a783e0",
   "metadata": {},
   "outputs": [
    {
     "name": "stdout",
     "output_type": "stream",
     "text": [
      "Requirement already satisfied: pandas in c:\\users\\578915\\appdata\\local\\programs\\python\\python311\\lib\\site-packages (2.1.0)\n",
      "Requirement already satisfied: numpy>=1.23.2 in c:\\users\\578915\\appdata\\local\\programs\\python\\python311\\lib\\site-packages (from pandas) (1.25.2)\n",
      "Requirement already satisfied: python-dateutil>=2.8.2 in c:\\users\\578915\\appdata\\local\\programs\\python\\python311\\lib\\site-packages (from pandas) (2.8.2)\n",
      "Requirement already satisfied: pytz>=2020.1 in c:\\users\\578915\\appdata\\local\\programs\\python\\python311\\lib\\site-packages (from pandas) (2023.3)\n",
      "Requirement already satisfied: tzdata>=2022.1 in c:\\users\\578915\\appdata\\local\\programs\\python\\python311\\lib\\site-packages (from pandas) (2023.3)\n",
      "Requirement already satisfied: six>=1.5 in c:\\users\\578915\\appdata\\local\\programs\\python\\python311\\lib\\site-packages (from python-dateutil>=2.8.2->pandas) (1.16.0)\n",
      "Note: you may need to restart the kernel to use updated packages.\n"
     ]
    },
    {
     "name": "stderr",
     "output_type": "stream",
     "text": [
      "\n",
      "[notice] A new release of pip is available: 23.2.1 -> 23.3.1\n",
      "[notice] To update, run: python.exe -m pip install --upgrade pip\n"
     ]
    }
   ],
   "source": [
    "pip install pandas"
   ]
  },
  {
   "cell_type": "code",
   "execution_count": 4,
   "id": "2f1bd4de-a4f0-4416-9298-30bb2e2273bc",
   "metadata": {},
   "outputs": [],
   "source": [
    "#Importação das bibliotecas\n",
    "import pandas as pd \n",
    "import numpy as np\n",
    "import matplotlib.pyplot as plt\n",
    "import seaborn as sns\n",
    "import warnings\n",
    "warnings.filterwarnings('ignore')\n",
    "from sklearn.model_selection import train_test_split,GridSearchCV\n",
    "from sklearn.preprocessing import LabelEncoder\n",
    "from sklearn.linear_model import LinearRegression\n",
    "from sklearn.ensemble import RandomForestRegressor\n",
    "from sklearn.tree import DecisionTreeRegressor\n",
    "from sklearn.metrics import mean_squared_error,mean_absolute_error "
   ]
  },
  {
   "cell_type": "code",
   "execution_count": 5,
   "id": "a2848fe7-b340-47a8-be9d-90fdf937bf56",
   "metadata": {},
   "outputs": [
    {
     "data": {
      "text/html": [
       "<div>\n",
       "<style scoped>\n",
       "    .dataframe tbody tr th:only-of-type {\n",
       "        vertical-align: middle;\n",
       "    }\n",
       "\n",
       "    .dataframe tbody tr th {\n",
       "        vertical-align: top;\n",
       "    }\n",
       "\n",
       "    .dataframe thead th {\n",
       "        text-align: right;\n",
       "    }\n",
       "</style>\n",
       "<table border=\"1\" class=\"dataframe\">\n",
       "  <thead>\n",
       "    <tr style=\"text-align: right;\">\n",
       "      <th></th>\n",
       "      <th>Matricula</th>\n",
       "      <th>Idade</th>\n",
       "      <th>Sexo</th>\n",
       "      <th>Escolaridade</th>\n",
       "      <th>Cargo</th>\n",
       "      <th>Anos_experiencia</th>\n",
       "      <th>Salario</th>\n",
       "    </tr>\n",
       "  </thead>\n",
       "  <tbody>\n",
       "    <tr>\n",
       "      <th>0</th>\n",
       "      <td>502511</td>\n",
       "      <td>66</td>\n",
       "      <td>M</td>\n",
       "      <td>Pós-Graduação</td>\n",
       "      <td>Advogado de Contratos</td>\n",
       "      <td>34</td>\n",
       "      <td>11833.93</td>\n",
       "    </tr>\n",
       "    <tr>\n",
       "      <th>1</th>\n",
       "      <td>581302</td>\n",
       "      <td>47</td>\n",
       "      <td>F</td>\n",
       "      <td>4ª Série Incompleta</td>\n",
       "      <td>Afiador de Ferramentas</td>\n",
       "      <td>9</td>\n",
       "      <td>1773.79</td>\n",
       "    </tr>\n",
       "    <tr>\n",
       "      <th>2</th>\n",
       "      <td>801931</td>\n",
       "      <td>23</td>\n",
       "      <td>M</td>\n",
       "      <td>4ª Série Incompleta</td>\n",
       "      <td>Afiador de Ferramentas</td>\n",
       "      <td>0</td>\n",
       "      <td>1773.79</td>\n",
       "    </tr>\n",
       "    <tr>\n",
       "      <th>3</th>\n",
       "      <td>806233</td>\n",
       "      <td>23</td>\n",
       "      <td>M</td>\n",
       "      <td>4ª Série Incompleta</td>\n",
       "      <td>Afiador de Ferramentas</td>\n",
       "      <td>0</td>\n",
       "      <td>1773.79</td>\n",
       "    </tr>\n",
       "    <tr>\n",
       "      <th>4</th>\n",
       "      <td>511586</td>\n",
       "      <td>53</td>\n",
       "      <td>M</td>\n",
       "      <td>4ª Série Completa</td>\n",
       "      <td>Afiador de Ferramentas</td>\n",
       "      <td>21</td>\n",
       "      <td>1872.35</td>\n",
       "    </tr>\n",
       "  </tbody>\n",
       "</table>\n",
       "</div>"
      ],
      "text/plain": [
       "   Matricula  Idade Sexo         Escolaridade                   Cargo  \\\n",
       "0     502511     66    M        Pós-Graduação   Advogado de Contratos   \n",
       "1     581302     47    F  4ª Série Incompleta  Afiador de Ferramentas   \n",
       "2     801931     23    M  4ª Série Incompleta  Afiador de Ferramentas   \n",
       "3     806233     23    M  4ª Série Incompleta  Afiador de Ferramentas   \n",
       "4     511586     53    M    4ª Série Completa  Afiador de Ferramentas   \n",
       "\n",
       "   Anos_experiencia   Salario  \n",
       "0                34  11833.93  \n",
       "1                 9   1773.79  \n",
       "2                 0   1773.79  \n",
       "3                 0   1773.79  \n",
       "4                21   1872.35  "
      ]
     },
     "execution_count": 5,
     "metadata": {},
     "output_type": "execute_result"
    }
   ],
   "source": [
    "#Ler o arquivo .csv\n",
    "salary_df = pd.read_csv('Dados.csv', sep=';')\n",
    "salary_df.head()                       "
   ]
  },
  {
   "cell_type": "code",
   "execution_count": 6,
   "id": "506a3f91-39da-4086-8b60-8beaa01b7f19",
   "metadata": {},
   "outputs": [
    {
     "name": "stdout",
     "output_type": "stream",
     "text": [
      "<class 'pandas.core.frame.DataFrame'>\n",
      "RangeIndex: 14087 entries, 0 to 14086\n",
      "Data columns (total 7 columns):\n",
      " #   Column            Non-Null Count  Dtype  \n",
      "---  ------            --------------  -----  \n",
      " 0   Matricula         14087 non-null  int64  \n",
      " 1   Idade             14087 non-null  int64  \n",
      " 2   Sexo              14087 non-null  object \n",
      " 3   Escolaridade      14087 non-null  object \n",
      " 4   Cargo             14087 non-null  object \n",
      " 5   Anos_experiencia  14087 non-null  int64  \n",
      " 6   Salario           14087 non-null  float64\n",
      "dtypes: float64(1), int64(3), object(3)\n",
      "memory usage: 770.5+ KB\n"
     ]
    }
   ],
   "source": [
    "#Buscar Informações do dataset\n",
    "salary_df.info()"
   ]
  },
  {
   "cell_type": "markdown",
   "id": "aff66c1b-7de7-460d-b4b2-dd10d1a4bfbd",
   "metadata": {},
   "source": [
    "Pre processamento de dados"
   ]
  },
  {
   "cell_type": "code",
   "execution_count": 7,
   "id": "d8965eec-21c2-49f9-920e-afc7b780f81d",
   "metadata": {},
   "outputs": [
    {
     "data": {
      "text/plain": [
       "Matricula           0\n",
       "Idade               0\n",
       "Sexo                0\n",
       "Escolaridade        0\n",
       "Cargo               0\n",
       "Anos_experiencia    0\n",
       "Salario             0\n",
       "dtype: int64"
      ]
     },
     "execution_count": 7,
     "metadata": {},
     "output_type": "execute_result"
    }
   ],
   "source": [
    "#Detectando valores nulos\n",
    "salary_df.isnull().sum()"
   ]
  },
  {
   "cell_type": "code",
   "execution_count": 8,
   "id": "e38e7a2d-00e3-4162-9a4e-dedf6e73fbc5",
   "metadata": {},
   "outputs": [],
   "source": [
    "#Deletando valores nulos\n",
    "salary_df.dropna(inplace = True)"
   ]
  },
  {
   "cell_type": "code",
   "execution_count": 9,
   "id": "c9df1bd1-5e0d-4ec0-bded-f385b6f2773b",
   "metadata": {},
   "outputs": [
    {
     "data": {
      "text/html": [
       "<div>\n",
       "<style scoped>\n",
       "    .dataframe tbody tr th:only-of-type {\n",
       "        vertical-align: middle;\n",
       "    }\n",
       "\n",
       "    .dataframe tbody tr th {\n",
       "        vertical-align: top;\n",
       "    }\n",
       "\n",
       "    .dataframe thead th {\n",
       "        text-align: right;\n",
       "    }\n",
       "</style>\n",
       "<table border=\"1\" class=\"dataframe\">\n",
       "  <thead>\n",
       "    <tr style=\"text-align: right;\">\n",
       "      <th></th>\n",
       "      <th>Matricula</th>\n",
       "      <th>Idade</th>\n",
       "      <th>Anos_experiencia</th>\n",
       "      <th>Salario</th>\n",
       "    </tr>\n",
       "  </thead>\n",
       "  <tbody>\n",
       "    <tr>\n",
       "      <th>count</th>\n",
       "      <td>14087.000000</td>\n",
       "      <td>14087.000000</td>\n",
       "      <td>14087.000000</td>\n",
       "      <td>14087.000000</td>\n",
       "    </tr>\n",
       "    <tr>\n",
       "      <th>mean</th>\n",
       "      <td>628085.364095</td>\n",
       "      <td>35.267694</td>\n",
       "      <td>4.521971</td>\n",
       "      <td>2422.693104</td>\n",
       "    </tr>\n",
       "    <tr>\n",
       "      <th>std</th>\n",
       "      <td>102977.745198</td>\n",
       "      <td>11.327685</td>\n",
       "      <td>5.752769</td>\n",
       "      <td>2270.589733</td>\n",
       "    </tr>\n",
       "    <tr>\n",
       "      <th>min</th>\n",
       "      <td>500017.000000</td>\n",
       "      <td>16.000000</td>\n",
       "      <td>0.000000</td>\n",
       "      <td>805.860000</td>\n",
       "    </tr>\n",
       "    <tr>\n",
       "      <th>25%</th>\n",
       "      <td>567746.500000</td>\n",
       "      <td>26.000000</td>\n",
       "      <td>1.000000</td>\n",
       "      <td>1773.790000</td>\n",
       "    </tr>\n",
       "    <tr>\n",
       "      <th>50%</th>\n",
       "      <td>584160.000000</td>\n",
       "      <td>34.000000</td>\n",
       "      <td>2.000000</td>\n",
       "      <td>1773.790000</td>\n",
       "    </tr>\n",
       "    <tr>\n",
       "      <th>75%</th>\n",
       "      <td>599877.000000</td>\n",
       "      <td>44.000000</td>\n",
       "      <td>7.000000</td>\n",
       "      <td>2157.440000</td>\n",
       "    </tr>\n",
       "    <tr>\n",
       "      <th>max</th>\n",
       "      <td>806877.000000</td>\n",
       "      <td>74.000000</td>\n",
       "      <td>47.000000</td>\n",
       "      <td>104286.660000</td>\n",
       "    </tr>\n",
       "  </tbody>\n",
       "</table>\n",
       "</div>"
      ],
      "text/plain": [
       "           Matricula         Idade  Anos_experiencia        Salario\n",
       "count   14087.000000  14087.000000      14087.000000   14087.000000\n",
       "mean   628085.364095     35.267694          4.521971    2422.693104\n",
       "std    102977.745198     11.327685          5.752769    2270.589733\n",
       "min    500017.000000     16.000000          0.000000     805.860000\n",
       "25%    567746.500000     26.000000          1.000000    1773.790000\n",
       "50%    584160.000000     34.000000          2.000000    1773.790000\n",
       "75%    599877.000000     44.000000          7.000000    2157.440000\n",
       "max    806877.000000     74.000000         47.000000  104286.660000"
      ]
     },
     "execution_count": 9,
     "metadata": {},
     "output_type": "execute_result"
    }
   ],
   "source": [
    "#Descrições\n",
    "salary_df.describe()"
   ]
  },
  {
   "cell_type": "code",
   "execution_count": 10,
   "id": "846fbd5f-6fd6-4f01-bdaa-07e044def254",
   "metadata": {},
   "outputs": [
    {
     "data": {
      "text/plain": [
       "array(['Advogado de Contratos', 'Afiador de Ferramentas',\n",
       "       'Ajudante de Motorista', 'Analista Adm. - Alimentos',\n",
       "       'Analista Adm. - Custos', 'Analista Adm. - Logística',\n",
       "       'Analista Adm. - OSM', 'Analista Adm. - Projetos',\n",
       "       'Analista Adm. - Qualidade', 'Analista Adm. - Seguros',\n",
       "       'Analista Adm. - Suprimentos', 'Analista Adm. - Varejo',\n",
       "       'Analista Ambiental', 'Analista Comercial', 'Analista Contábil',\n",
       "       'Analista Financeiro', 'Analista Gestão da Qualidade',\n",
       "       'Analista Marketing de Produto', 'Analista P&D',\n",
       "       'Analista TI - Ambientes', 'Analista TI - Funcional',\n",
       "       'Analista TI - Infra', 'Analista TI - Seg. Informação',\n",
       "       'Analista TI - Service Desk', 'Analista Tributário',\n",
       "       'Analista de Comunicação', 'Analista de Comércio Exterior',\n",
       "       'Analista de Cooperativismo', 'Analista de Gestão de Pessoas',\n",
       "       'Analista de Logística - Inter.', 'Analista de Logística - PCL',\n",
       "       'Analista de Logística - Proj.', 'Analista de Mercado Cereais',\n",
       "       'Analista de Planej./Gestão', 'Analista de Pricing',\n",
       "       'Analista de Proc. Industriais', 'Analista de Proc./Custos',\n",
       "       'Analista de Proc./Custos - PCP', 'Assessor de Cooperativismo',\n",
       "       'Assessor de Nutrição Animal', 'Assessor de Produtos Revenda',\n",
       "       'Assist. Administrativo', 'Assist. de Operações',\n",
       "       'Assist. de Operações - Estoque', 'Assist. de Operações - Infra',\n",
       "       'Atendente de Loja', 'Auditor', 'Aux. Administrativo',\n",
       "       'Aux. Operacional - Alimentos', 'Aux. Operacional - Almoxarife',\n",
       "       'Aux. Operacional - Carreg.', 'Aux. Operacional - Despesca',\n",
       "       'Aux. Operacional - Distrib.', 'Aux. Operacional - Frota',\n",
       "       'Aux. Operacional - Higieniz.', 'Aux. Operacional - Inspeção',\n",
       "       'Aux. Operacional - Lavanderia', 'Aux. Operacional - Mercados',\n",
       "       'Aux. Operacional - Movim.', 'Aux. Operacional - Pallets',\n",
       "       'Aux. Operacional - Ponto Crít.', 'Aux. Operacional - Premix',\n",
       "       'Aux. Operacional - Ração', 'Aux. Operacional - Reciclagem',\n",
       "       'Aux. Operacional - Recolha', 'Aux. Operacional - Reflorest.',\n",
       "       'Aux. Operacional - Sep./Palet.', 'Aux. Operacional - Temp./MP',\n",
       "       'Aux. Operacional - UPA', 'Aux. Operacional - Unidades',\n",
       "       'Aux. de Laboratório', 'Aux. de Manutenção', 'Aux. de Operações',\n",
       "       'Aux. de Produção', 'Aux. de Produção - Integração',\n",
       "       'Aux. de Serviços Gerais', 'Açougueiro', 'Balanceiro',\n",
       "       'Classificador', 'Comprador - Importação', 'Comprador - Insumos',\n",
       "       'Comprador - Supermercados', 'Comprador - Suprimentos',\n",
       "       'Confeiteiro', 'Conferente', 'Controlador de Acesso', 'Copeiro',\n",
       "       'Cozinheiro', 'Designer Gráfico', 'Diretor Presidente',\n",
       "       'Diretor Secretário', 'Diretor Vice Presidente',\n",
       "       'Eletricista Automotivo', 'Eletricista Industrial',\n",
       "       'Eletromecânico', 'Enfermeira Líder do Trabalho', 'Enfermeiro',\n",
       "       'Engenheiro Agrícola', 'Engenheiro Agrônomo',\n",
       "       'Engenheiro Ambiental', 'Engenheiro Civil',\n",
       "       'Engenheiro Eletricista', 'Engenheiro Mecânico',\n",
       "       'Engenheiro de Automação', 'Engenheiro de Pesca',\n",
       "       'Engenheiro de Seg. do Trabalho', 'Estagiário', 'Extensionista',\n",
       "       'Fisioterapeuta', 'Fisioterapeuta Líder', 'Fonoaudióloga',\n",
       "       'Gerente Administrativo', 'Gerente Comercial',\n",
       "       'Gerente Comercial - Nutrição', 'Gerente Técnico',\n",
       "       'Gerente de Adm. de Vendas', 'Gerente de Auditoria',\n",
       "       'Gerente de Cereais', 'Gerente de Compras Superm.',\n",
       "       'Gerente de Compras/Importação', 'Gerente de Comunicação',\n",
       "       'Gerente de Control./Finanças', 'Gerente de Eng./Projetos',\n",
       "       'Gerente de Filial de Vendas', 'Gerente de Gestão de Pessoas',\n",
       "       'Gerente de Insumos', 'Gerente de Integração',\n",
       "       'Gerente de Logística - Entrada', 'Gerente de Logística - Intern.',\n",
       "       'Gerente de Logística - Planej.', 'Gerente de Logística - Saída',\n",
       "       'Gerente de Loja', 'Gerente de Manutenção', 'Gerente de Marketing',\n",
       "       'Gerente de Meio Ambiente', 'Gerente de Negócios - Constel',\n",
       "       'Gerente de Negócios - Superm.', 'Gerente de Operações Agrícolas',\n",
       "       'Gerente de Planej./Gestão', 'Gerente de Processos e Custos',\n",
       "       'Gerente de Produção', 'Gerente de Qualidade',\n",
       "       'Gerente de Suprimentos', 'Gerente de TI', 'Gerente de Unidade',\n",
       "       'Gestor de Projetos', 'Inspetor da Qualidade',\n",
       "       'Instrutor de Motorista', 'Jornalista', 'Jovem Aprendiz',\n",
       "       'Laboratorista', 'Líder Administrativo', 'Líder de Manutenção',\n",
       "       'Líder de Operações - Agrícola', 'Líder de Operações - Caldeira',\n",
       "       'Líder de Operações - Hig.', 'Líder de Operações - Inspeção',\n",
       "       'Líder de Operações - Lavand.', 'Líder de Operações - Logística',\n",
       "       'Líder de Operações - Loja', 'Líder de Operações - Meio Amb.',\n",
       "       'Líder de Operações - Qualidade', 'Líder de Operações - Reflor.',\n",
       "       'Líder de Operações - Sala Máq.', 'Líder de Operações - Transp.',\n",
       "       'Líder de Produção - Agrícola', 'Líder de Produção - Industrial',\n",
       "       'Líder de Produção - Integração', 'Líder de Produção - Soja',\n",
       "       'Líder de Produção - UPA', 'Mecânico Automotivo',\n",
       "       'Mecânico Industrial', 'Mestre de Obras', 'Monitor de Equipe',\n",
       "       'Monitor de Processo', 'Monitor de Processo - Reflor.',\n",
       "       'Motorista', 'Motorista Particular', 'Médico Clínico',\n",
       "       'Médico Superv. do Trabalho', 'Médico Veterinário',\n",
       "       'Médico Veterinário Sanitarista', 'Médico do Trabalho',\n",
       "       'Nutricionista', 'Nutricionista - Nut. Animal',\n",
       "       'Operador de Caixa', 'Operador de Climatização',\n",
       "       'Operador de Empilhadeira', 'Operador de Estação de Trat.',\n",
       "       'Operador de Expedição', 'Operador de Extração',\n",
       "       'Operador de Máquina - Caldeira', 'Operador de Máquina - Cereais',\n",
       "       'Operador de Máquina - Florest.', 'Operador de Máquina - Incub.',\n",
       "       'Operador de Máquina - Industr.', 'Operador de Máquina - Pesada',\n",
       "       'Operador de Máquina - Túnel', 'Operador de Preparação',\n",
       "       'Operador de Tanq. de Depuração', 'Operador de Transpaleteira',\n",
       "       'Padeiro', 'Pedreiro', 'Pesquisador', 'Planejador de Manutenção',\n",
       "       'Porteiro', 'Preposto Trabalhista',\n",
       "       'Programador Operações - Abate', 'Programador Operações - Aloj.',\n",
       "       'Programador Operações - Inter.', 'Programador Operações - Ração',\n",
       "       'Programador de TI', 'Promotor de Vendas', 'Secretária Executiva',\n",
       "       'Servente de Pedreiro', 'Sub Gerente de Loja', 'Superintendente',\n",
       "       'Superv. Administrativo - Apoio', 'Superv. Administrativo - Fom.',\n",
       "       'Superv. Administrativo - SAC', 'Superv. Administrativo - Supr.',\n",
       "       'Superv. Administrativo - UBT', 'Superv. Administrativo - Unid.',\n",
       "       'Superv. Comercial', 'Superv. Contábil', 'Superv. Financeiro',\n",
       "       'Superv. Gest. Pessoas - Adm.', 'Superv. Gest. Pessoas - DHO',\n",
       "       'Superv. Gest. Pessoas - S&R', 'Superv. Gestão Ambiental',\n",
       "       'Superv. Operações - Almox.', 'Superv. Operações - Cavaco',\n",
       "       'Superv. Operações - G. Frotas', 'Superv. Operações - Higien.',\n",
       "       'Superv. Operações - Lavand.', 'Superv. Operações - Meio Amb.',\n",
       "       'Superv. Operações - Pallets', 'Superv. Operações - Reflor.',\n",
       "       'Superv. Operações - Unidade', 'Superv. Operações - Utilidades',\n",
       "       'Superv. Trademarketing - Nac.', 'Superv. Trademarketing - Reg.',\n",
       "       'Superv. Tributário', 'Superv. de Acesso ao Mercado',\n",
       "       'Superv. de Assist. Técnica', 'Superv. de Comex',\n",
       "       'Superv. de Compras', 'Superv. de Contr. de Qualidade',\n",
       "       'Superv. de Engenharia', 'Superv. de Gestão da Qualidade',\n",
       "       'Superv. de Laboratório', 'Superv. de Logística',\n",
       "       'Superv. de Loja', 'Superv. de Manutenção',\n",
       "       'Superv. de Manutenção - PCM', 'Superv. de Marketing',\n",
       "       'Superv. de P&D', 'Superv. de Pesquisa Agrícola',\n",
       "       'Superv. de Produção - FFO', 'Superv. de Produção - Incubat.',\n",
       "       'Superv. de Produção - Industr.', 'Superv. de Produção - Matriz.',\n",
       "       'Superv. de Produção - Sementes', 'Superv. de Produção - UPA',\n",
       "       'Superv. de Produção - UPBN', 'Superv. de Produção - UPD',\n",
       "       'Superv. de Produção - UPL', 'Superv. de Seg. Patrimonial',\n",
       "       'Superv. de Seg. do Trabalho', 'Superv. de Suprimentos',\n",
       "       'Superv. de TI - Infra', 'Superv. de TI - Projetos',\n",
       "       'Superv. de TI - Sistemas', 'Superv. de Unidade',\n",
       "       'Torneiro Mecânico', 'Trader', 'Trainee', 'Tratorista',\n",
       "       'Téc. Segurança/Bombeiro Civil', 'Técnico de Enfer. do Trabalho',\n",
       "       'Técnico de Enfermagem', 'Técnico de Panificação',\n",
       "       'Técnico de Seg. do Trabalho', 'Técnico em Automação',\n",
       "       'Técnico em Edificações', 'Técnico em Eletromecânica', 'Vacinador',\n",
       "       'Vendedor', 'Vendedor Externo', 'Vendedor Interno', 'Vigilante',\n",
       "       'Zelador', 'Zootecnista'], dtype=object)"
      ]
     },
     "execution_count": 10,
     "metadata": {},
     "output_type": "execute_result"
    }
   ],
   "source": [
    "#Checando os valores unicos de cargos\n",
    "salary_df['Cargo'].unique()"
   ]
  },
  {
   "cell_type": "code",
   "execution_count": 11,
   "id": "d58fc4f6-6339-4bec-8427-0d60b5ec73c6",
   "metadata": {},
   "outputs": [
    {
     "data": {
      "text/plain": [
       "Cargo\n",
       "Aux. de Produção                  5703\n",
       "Operador de Máquina - Industr.     735\n",
       "Aux. Operacional - Higieniz.       588\n",
       "Motorista                          464\n",
       "Aux. Operacional - Recolha         380\n",
       "                                  ... \n",
       "Gerente de Auditoria                 1\n",
       "Gerente de Cereais                   1\n",
       "Gerente de Compras Superm.           1\n",
       "Gerente de Compras/Importação        1\n",
       "Advogado de Contratos                1\n",
       "Name: count, Length: 293, dtype: int64"
      ]
     },
     "execution_count": 11,
     "metadata": {},
     "output_type": "execute_result"
    }
   ],
   "source": [
    "#Contagem dos cargos\n",
    "salary_df['Cargo'].value_counts()"
   ]
  },
  {
   "cell_type": "code",
   "execution_count": 12,
   "id": "51792a93-c675-4405-84f9-915d0b0a7812",
   "metadata": {},
   "outputs": [
    {
     "data": {
      "text/plain": [
       "253"
      ]
     },
     "execution_count": 12,
     "metadata": {},
     "output_type": "execute_result"
    }
   ],
   "source": [
    "#Criação de um váriavel para reduzir o numero de cargos\n",
    "job_title_stats = salary_df['Cargo'].value_counts()\n",
    "job_title_stats_less_than_50 = job_title_stats[job_title_stats<=50]\n",
    "job_title_stats_less_than_50.count()"
   ]
  },
  {
   "cell_type": "code",
   "execution_count": 13,
   "id": "aaf33177-daf9-46ed-adc7-08c60a946979",
   "metadata": {},
   "outputs": [
    {
     "data": {
      "text/plain": [
       "41"
      ]
     },
     "execution_count": 13,
     "metadata": {},
     "output_type": "execute_result"
    }
   ],
   "source": [
    "#Reduzindo o número de cargos\n",
    "salary_df['Job Title'] = salary_df['Cargo'].apply(lambda x: 'Others' if x in job_title_stats_less_than_50 else x )\n",
    "salary_df['Job Title'].nunique()"
   ]
  },
  {
   "cell_type": "code",
   "execution_count": 14,
   "id": "cc53e15c-7d43-48bb-8d6c-4df6d3360e54",
   "metadata": {},
   "outputs": [
    {
     "data": {
      "text/plain": [
       "array(['Pós-Graduação', '4ª Série Incompleta', '4ª Série Completa',\n",
       "       '5ª a 8ª Série Incompleta', '1º Grau Completo',\n",
       "       '2º Grau Incompleto', '2º Grau Completo', 'Superior Incompleto',\n",
       "       'Superior Completo', 'Técnico', 'Mestrado', 'Não alfabetizado',\n",
       "       'Doutorado', 'Ph.D.'], dtype=object)"
      ]
     },
     "execution_count": 14,
     "metadata": {},
     "output_type": "execute_result"
    }
   ],
   "source": [
    "#Buscando as escolaridades unicas\n",
    "salary_df['Escolaridade'].unique()"
   ]
  },
  {
   "cell_type": "code",
   "execution_count": 15,
   "id": "5041753b-0059-4a06-b716-60be2213a6f1",
   "metadata": {},
   "outputs": [],
   "source": [
    "salary_df['Escolaridade'].replace([\"Pós-Graduação\",\"Mestrado\",\"Doutorado\",\"Ph.D.\",\"4ª Série Incompleta\",\"5ª a 8ª Série Incompleta\",\"1º Grau Completo\",\"4ª Série Completa\",\"2º Grau Incompleto\"],[\"PG\",\"PG\",\"PG\",\"PG\",\"Fundamental\",\"Fundamental\",\"Fundamental\",\"Fundamental\",\"Fundamental\"],inplace=True)"
   ]
  },
  {
   "cell_type": "code",
   "execution_count": 16,
   "id": "375d89b9-589b-465d-baa1-68f3fcd2338f",
   "metadata": {},
   "outputs": [],
   "source": [
    "salary_df['Escolaridade'].replace([\"2º Grau Completo\",\"Superior Completo\",\"Superior Incompleto\",\"Não alfabetizado\"],[\"Ens. Médio\",\"Superior\",\"Superior\",\"Analfabeto\"],inplace=True)"
   ]
  },
  {
   "cell_type": "code",
   "execution_count": 17,
   "id": "1aa0df7c-07c5-49e3-808a-112420625a8f",
   "metadata": {},
   "outputs": [
    {
     "data": {
      "text/plain": [
       "Sexo\n",
       "M    8139\n",
       "F    5948\n",
       "Name: count, dtype: int64"
      ]
     },
     "execution_count": 17,
     "metadata": {},
     "output_type": "execute_result"
    }
   ],
   "source": [
    "#Buscando generos\n",
    "salary_df.Sexo.value_counts()"
   ]
  },
  {
   "cell_type": "markdown",
   "id": "65978ad6-a46f-403a-b897-53dc32e394ac",
   "metadata": {},
   "source": [
    "Análise Exploratoria"
   ]
  },
  {
   "cell_type": "code",
   "execution_count": 18,
   "id": "5cf9a04e-774e-4f79-8ce1-aa26cd0f3356",
   "metadata": {},
   "outputs": [
    {
     "data": {
      "text/html": [
       "<div>\n",
       "<style scoped>\n",
       "    .dataframe tbody tr th:only-of-type {\n",
       "        vertical-align: middle;\n",
       "    }\n",
       "\n",
       "    .dataframe tbody tr th {\n",
       "        vertical-align: top;\n",
       "    }\n",
       "\n",
       "    .dataframe thead th {\n",
       "        text-align: right;\n",
       "    }\n",
       "</style>\n",
       "<table border=\"1\" class=\"dataframe\">\n",
       "  <thead>\n",
       "    <tr style=\"text-align: right;\">\n",
       "      <th></th>\n",
       "      <th>Matricula</th>\n",
       "      <th>Idade</th>\n",
       "      <th>Sexo</th>\n",
       "      <th>Escolaridade</th>\n",
       "      <th>Cargo</th>\n",
       "      <th>Anos_experiencia</th>\n",
       "      <th>Salario</th>\n",
       "      <th>Job Title</th>\n",
       "    </tr>\n",
       "  </thead>\n",
       "  <tbody>\n",
       "    <tr>\n",
       "      <th>0</th>\n",
       "      <td>502511</td>\n",
       "      <td>66</td>\n",
       "      <td>M</td>\n",
       "      <td>PG</td>\n",
       "      <td>Advogado de Contratos</td>\n",
       "      <td>34</td>\n",
       "      <td>11833.93</td>\n",
       "      <td>Others</td>\n",
       "    </tr>\n",
       "    <tr>\n",
       "      <th>1</th>\n",
       "      <td>581302</td>\n",
       "      <td>47</td>\n",
       "      <td>F</td>\n",
       "      <td>Fundamental</td>\n",
       "      <td>Afiador de Ferramentas</td>\n",
       "      <td>9</td>\n",
       "      <td>1773.79</td>\n",
       "      <td>Others</td>\n",
       "    </tr>\n",
       "    <tr>\n",
       "      <th>2</th>\n",
       "      <td>801931</td>\n",
       "      <td>23</td>\n",
       "      <td>M</td>\n",
       "      <td>Fundamental</td>\n",
       "      <td>Afiador de Ferramentas</td>\n",
       "      <td>0</td>\n",
       "      <td>1773.79</td>\n",
       "      <td>Others</td>\n",
       "    </tr>\n",
       "    <tr>\n",
       "      <th>3</th>\n",
       "      <td>806233</td>\n",
       "      <td>23</td>\n",
       "      <td>M</td>\n",
       "      <td>Fundamental</td>\n",
       "      <td>Afiador de Ferramentas</td>\n",
       "      <td>0</td>\n",
       "      <td>1773.79</td>\n",
       "      <td>Others</td>\n",
       "    </tr>\n",
       "    <tr>\n",
       "      <th>4</th>\n",
       "      <td>511586</td>\n",
       "      <td>53</td>\n",
       "      <td>M</td>\n",
       "      <td>Fundamental</td>\n",
       "      <td>Afiador de Ferramentas</td>\n",
       "      <td>21</td>\n",
       "      <td>1872.35</td>\n",
       "      <td>Others</td>\n",
       "    </tr>\n",
       "  </tbody>\n",
       "</table>\n",
       "</div>"
      ],
      "text/plain": [
       "   Matricula  Idade Sexo Escolaridade                   Cargo  \\\n",
       "0     502511     66    M           PG   Advogado de Contratos   \n",
       "1     581302     47    F  Fundamental  Afiador de Ferramentas   \n",
       "2     801931     23    M  Fundamental  Afiador de Ferramentas   \n",
       "3     806233     23    M  Fundamental  Afiador de Ferramentas   \n",
       "4     511586     53    M  Fundamental  Afiador de Ferramentas   \n",
       "\n",
       "   Anos_experiencia   Salario Job Title  \n",
       "0                34  11833.93    Others  \n",
       "1                 9   1773.79    Others  \n",
       "2                 0   1773.79    Others  \n",
       "3                 0   1773.79    Others  \n",
       "4                21   1872.35    Others  "
      ]
     },
     "execution_count": 18,
     "metadata": {},
     "output_type": "execute_result"
    }
   ],
   "source": [
    "salary_df.head()"
   ]
  },
  {
   "cell_type": "code",
   "execution_count": 19,
   "id": "2d957a4c-a922-4cbc-a1e4-c14b01f7def4",
   "metadata": {},
   "outputs": [
    {
     "data": {
      "text/plain": [
       "<Axes: xlabel='Escolaridade', ylabel='count'>"
      ]
     },
     "execution_count": 19,
     "metadata": {},
     "output_type": "execute_result"
    },
    {
     "data": {
      "image/png": "[encoded data removed]",
      "text/plain": [
       "<Figure size 1500x500 with 2 Axes>"
      ]
     },
     "metadata": {},
     "output_type": "display_data"
    }
   ],
   "source": [
    "#Distribuição de variáveis categóricas\n",
    "fig, ax = plt.subplots(1,2,figsize=(15,5))\n",
    "sns.countplot(x='Sexo',data=salary_df,ax = ax[0])\n",
    "sns.countplot(x='Escolaridade',data = salary_df,ax=ax[1])"
   ]
  },
  {
   "cell_type": "markdown",
   "id": "bef8ebfa-9fb6-4227-9ec3-7df3cb2250d8",
   "metadata": {},
   "source": [
    "O primeiro gráfico revela que uma parte significante dos colaboradores é do sexo masculino, ultrapassando a quantidade de colaboradores do sexo feminino. O segundo demonstra a distribuição dos colaboradores por escolaridade, demonstrando que a maioria estudaram somente até o fundamental. E também demonstra baixo nível de analfabetismo oque é um indicador muito positivo."
   ]
  },
  {
   "cell_type": "markdown",
   "id": "64742649-16ec-41b0-90e9-75c362ba6449",
   "metadata": {},
   "source": [
    "Distribuição da váriaveis continuas"
   ]
  },
  {
   "cell_type": "code",
   "execution_count": 20,
   "id": "ba6c096a-bd5f-473b-877d-280c7b032ac2",
   "metadata": {},
   "outputs": [
    {
     "data": {
      "text/plain": [
       "<Axes: xlabel='Salario', ylabel='Count'>"
      ]
     },
     "execution_count": 20,
     "metadata": {},
     "output_type": "execute_result"
    },
    {
     "data": {
      "image/png": "[encoded data removed]",
      "text/plain": [
       "<Figure size 2000x500 with 3 Axes>"
      ]
     },
     "metadata": {},
     "output_type": "display_data"
    }
   ],
   "source": [
    "fig, ax = plt.subplots(1,3,figsize=(20,5))\n",
    "sns.histplot(salary_df['Idade'],ax=ax[0])\n",
    "sns.histplot(salary_df['Anos_experiencia'],ax=ax[1])\n",
    "bins = [500,1000,1500,2000,2500,3500,4500,5000,5500,6000,6500,7000,7500,8000,8500,9000,9500,10000,10500,12000,16000,18000,20000,22000,28000,30000,40000,50000,80000,90000,100000, max(salary_df['Salario'])]\n",
    "sns.histplot(salary_df['Salario'], ax=ax[2], bins=bins)"
   ]
  },
  {
   "cell_type": "markdown",
   "id": "0b4b6998-b48e-4ee3-8fbd-b9d52125ce04",
   "metadata": {},
   "source": [
    "O grafico 1 demonstra que a maioria dos colaboradores estão na faixa etária entre 20 e 30 anos\n",
    "O segundo demonstra que a grande maioria dos colaboradores possui menos de 3 anos de experiência\n",
    "O Terceiro grafico demonstra que a gigantesca maioria dos salários estão concentrados nas primeiras faixas\n"
   ]
  },
  {
   "cell_type": "markdown",
   "id": "0f399946-0093-4299-9e12-211f686bb1a3",
   "metadata": {},
   "source": [
    "Top 10 Maiores Salários"
   ]
  },
  {
   "cell_type": "code",
   "execution_count": 21,
   "id": "05659322-0ecb-449a-8b6a-eebbfe07ed3d",
   "metadata": {},
   "outputs": [
    {
     "data": {
      "text/plain": [
       "[Text(0.5, 1.0, 'Top 10 Maiores Salários')]"
      ]
     },
     "execution_count": 21,
     "metadata": {},
     "output_type": "execute_result"
    },
    {
     "data": {
      "image/png": "[encoded data removed]",
      "text/plain": [
       "<Figure size 640x480 with 1 Axes>"
      ]
     },
     "metadata": {},
     "output_type": "display_data"
    }
   ],
   "source": [
    "mean_salary_by_job = salary_df.groupby('Cargo')['Salario'].mean().reset_index()\n",
    "sorted_data = mean_salary_by_job.sort_values(by='Salario',ascending=False)\n",
    "sns.barplot(x='Salario',y='Cargo',data=sorted_data.head(10)).set(title='Top 10 Maiores Salários')"
   ]
  },
  {
   "cell_type": "markdown",
   "id": "a21ec90a-73b9-4d0d-8b69-3dc155424bb3",
   "metadata": {},
   "source": [
    "Baseado neste grafico podemos descobrir que o Diretor Presidente recebe o maior salário"
   ]
  },
  {
   "cell_type": "markdown",
   "id": "20f65da9-49f5-4f3f-b8e0-bfbf1cb17f2d",
   "metadata": {},
   "source": [
    "Relacionamento com variável Alvo"
   ]
  },
  {
   "cell_type": "code",
   "execution_count": 22,
   "id": "882f65b1-d11d-4962-8149-e4383f526a98",
   "metadata": {},
   "outputs": [
    {
     "data": {
      "text/plain": [
       "[Text(0.5, 1.0, 'Relação entre Escolaridade e Salário')]"
      ]
     },
     "execution_count": 22,
     "metadata": {},
     "output_type": "execute_result"
    },
    {
     "data": {
      "image/png": "[encoded data removed]",
      "text/plain": [
       "<Figure size 1500x500 with 2 Axes>"
      ]
     },
     "metadata": {},
     "output_type": "display_data"
    }
   ],
   "source": [
    "fig, ax = plt.subplots(1,2,figsize=(15,5))\n",
    "sns.barplot(x='Sexo',y='Salario',data=salary_df,ax=ax[0]).set(title='Relação entre Gênero e Salário')\n",
    "sns.boxplot(x='Escolaridade',y='Salario',data=salary_df,ax=ax[1]).set(title='Relação entre Escolaridade e Salário')"
   ]
  },
  {
   "cell_type": "markdown",
   "id": "6adcf97e-541a-4d3a-883e-9ff83b67d600",
   "metadata": {},
   "source": [
    "O grafico da esquerda nos demonstra que existe uma disparidade entre o salário médio em relação ao gênero, aonde os homens recebem mais que as mulheres\n",
    "O grafico da direita nos demonstra que a escolaridade está relacionada a um salário maior, mostrando que os colaboradores com pos graduação(PG) são os que recebem os maiores salários"
   ]
  },
  {
   "cell_type": "code",
   "execution_count": 23,
   "id": "8b948ec8-bc48-4064-96c4-645b174608bc",
   "metadata": {},
   "outputs": [
    {
     "data": {
      "text/plain": [
       "[Text(0.5, 1.0, 'Escolaridade vs Salario vs Gênero')]"
      ]
     },
     "execution_count": 23,
     "metadata": {},
     "output_type": "execute_result"
    },
    {
     "data": {
      "image/png": "[encoded data removed]",
      "text/plain": [
       "<Figure size 640x480 with 1 Axes>"
      ]
     },
     "metadata": {},
     "output_type": "display_data"
    }
   ],
   "source": [
    "sns.barplot(x='Escolaridade',y='Salario',data=salary_df,hue='Sexo').set(title='Escolaridade vs Salario vs Gênero')"
   ]
  },
  {
   "cell_type": "markdown",
   "id": "7375bb0a-e301-4490-a9e3-d90cecbea762",
   "metadata": {},
   "source": [
    "O grafico demonstra que a disparidade de salário entre homens e mulheres se mantém mesmo com colaboradores com mesma escolaridade, podemos tratar como exceção o ensino fundamental que diminuiu \n",
    "consideravelmente essa disparidade"
   ]
  },
  {
   "cell_type": "markdown",
   "id": "95ef3572-df4e-46d6-bab9-c30a70f5d903",
   "metadata": {},
   "source": [
    "Relação entre salário e idade"
   ]
  },
  {
   "cell_type": "code",
   "execution_count": 24,
   "id": "ef5a0b5a-9937-46b1-afe3-ecb67a0bc7fc",
   "metadata": {},
   "outputs": [
    {
     "data": {
      "text/plain": [
       "[Text(0.5, 1.0, 'Relação entre salário e idade')]"
      ]
     },
     "execution_count": 24,
     "metadata": {},
     "output_type": "execute_result"
    },
    {
     "data": {
      "image/png": "[encoded data removed]",
      "text/plain": [
       "<Figure size 600x500 with 1 Axes>"
      ]
     },
     "metadata": {},
     "output_type": "display_data"
    }
   ],
   "source": [
    "plt.figure(figsize=(6,5))\n",
    "sns.scatterplot(x='Idade',y='Salario',data=salary_df,hue='Sexo').set(title='Relação entre salário e idade')"
   ]
  },
  {
   "cell_type": "markdown",
   "id": "9d8e042c-8d1d-464f-97e2-6aee4a345204",
   "metadata": {},
   "source": [
    "O grafico mostra que os salários mais altos geralmente estão relacionados a uma idade mais alta, como por exempplo o maior salário é de um dos colaboradores com maior idade. A disparidade de gênero se mantém. ##REVISAR!!"
   ]
  },
  {
   "cell_type": "markdown",
   "id": "05adc34a-d603-4ab0-ae85-efbad9726bc9",
   "metadata": {},
   "source": [
    "Pre-Processamento de dados Part 2"
   ]
  },
  {
   "cell_type": "markdown",
   "id": "b7a0f56d-fd2c-42a7-92b1-5360cd04add4",
   "metadata": {},
   "source": [
    "Detectando Outliers"
   ]
  },
  {
   "cell_type": "code",
   "execution_count": 25,
   "id": "049c6113-ca9d-4362-8ec4-b32be49f8d4e",
   "metadata": {},
   "outputs": [],
   "source": [
    "# detecting the outliers in salary column using IQR method\n",
    "Q1 = salary_df.Salario.quantile(0.25)\n",
    "Q3 = salary_df.Salario.quantile(0.75)\n",
    "IQR = Q3-Q1\n",
    "lower = Q1-1.5*IQR\n",
    "upper = Q3+1.5*IQR"
   ]
  },
  {
   "cell_type": "code",
   "execution_count": 26,
   "id": "67c40f7e-96dd-4f96-a90f-15fab8c14d3f",
   "metadata": {},
   "outputs": [
    {
     "data": {
      "text/html": [
       "<div>\n",
       "<style scoped>\n",
       "    .dataframe tbody tr th:only-of-type {\n",
       "        vertical-align: middle;\n",
       "    }\n",
       "\n",
       "    .dataframe tbody tr th {\n",
       "        vertical-align: top;\n",
       "    }\n",
       "\n",
       "    .dataframe thead th {\n",
       "        text-align: right;\n",
       "    }\n",
       "</style>\n",
       "<table border=\"1\" class=\"dataframe\">\n",
       "  <thead>\n",
       "    <tr style=\"text-align: right;\">\n",
       "      <th></th>\n",
       "      <th>Matricula</th>\n",
       "      <th>Idade</th>\n",
       "      <th>Sexo</th>\n",
       "      <th>Escolaridade</th>\n",
       "      <th>Cargo</th>\n",
       "      <th>Anos_experiencia</th>\n",
       "      <th>Salario</th>\n",
       "      <th>Job Title</th>\n",
       "    </tr>\n",
       "  </thead>\n",
       "  <tbody>\n",
       "    <tr>\n",
       "      <th>0</th>\n",
       "      <td>502511</td>\n",
       "      <td>66</td>\n",
       "      <td>M</td>\n",
       "      <td>PG</td>\n",
       "      <td>Advogado de Contratos</td>\n",
       "      <td>34</td>\n",
       "      <td>11833.93</td>\n",
       "      <td>Others</td>\n",
       "    </tr>\n",
       "    <tr>\n",
       "      <th>57</th>\n",
       "      <td>565799</td>\n",
       "      <td>34</td>\n",
       "      <td>F</td>\n",
       "      <td>Superior</td>\n",
       "      <td>Analista Adm. - Alimentos</td>\n",
       "      <td>6</td>\n",
       "      <td>4231.77</td>\n",
       "      <td>Others</td>\n",
       "    </tr>\n",
       "    <tr>\n",
       "      <th>58</th>\n",
       "      <td>573247</td>\n",
       "      <td>48</td>\n",
       "      <td>M</td>\n",
       "      <td>Superior</td>\n",
       "      <td>Analista Adm. - Custos</td>\n",
       "      <td>4</td>\n",
       "      <td>7942.79</td>\n",
       "      <td>Others</td>\n",
       "    </tr>\n",
       "    <tr>\n",
       "      <th>59</th>\n",
       "      <td>505333</td>\n",
       "      <td>49</td>\n",
       "      <td>M</td>\n",
       "      <td>PG</td>\n",
       "      <td>Analista Adm. - Custos</td>\n",
       "      <td>29</td>\n",
       "      <td>6787.96</td>\n",
       "      <td>Others</td>\n",
       "    </tr>\n",
       "    <tr>\n",
       "      <th>60</th>\n",
       "      <td>565422</td>\n",
       "      <td>25</td>\n",
       "      <td>F</td>\n",
       "      <td>Superior</td>\n",
       "      <td>Analista Adm. - Logística</td>\n",
       "      <td>6</td>\n",
       "      <td>4408.09</td>\n",
       "      <td>Others</td>\n",
       "    </tr>\n",
       "    <tr>\n",
       "      <th>...</th>\n",
       "      <td>...</td>\n",
       "      <td>...</td>\n",
       "      <td>...</td>\n",
       "      <td>...</td>\n",
       "      <td>...</td>\n",
       "      <td>...</td>\n",
       "      <td>...</td>\n",
       "      <td>...</td>\n",
       "    </tr>\n",
       "    <tr>\n",
       "      <th>13914</th>\n",
       "      <td>508018</td>\n",
       "      <td>52</td>\n",
       "      <td>F</td>\n",
       "      <td>Superior</td>\n",
       "      <td>Vendedor Interno</td>\n",
       "      <td>24</td>\n",
       "      <td>3068.68</td>\n",
       "      <td>Others</td>\n",
       "    </tr>\n",
       "    <tr>\n",
       "      <th>13915</th>\n",
       "      <td>554379</td>\n",
       "      <td>28</td>\n",
       "      <td>M</td>\n",
       "      <td>Superior</td>\n",
       "      <td>Vendedor Interno</td>\n",
       "      <td>8</td>\n",
       "      <td>2963.25</td>\n",
       "      <td>Others</td>\n",
       "    </tr>\n",
       "    <tr>\n",
       "      <th>13919</th>\n",
       "      <td>546964</td>\n",
       "      <td>34</td>\n",
       "      <td>F</td>\n",
       "      <td>PG</td>\n",
       "      <td>Vendedor Interno</td>\n",
       "      <td>9</td>\n",
       "      <td>2950.51</td>\n",
       "      <td>Others</td>\n",
       "    </tr>\n",
       "    <tr>\n",
       "      <th>14085</th>\n",
       "      <td>599220</td>\n",
       "      <td>30</td>\n",
       "      <td>M</td>\n",
       "      <td>Superior</td>\n",
       "      <td>Zootecnista</td>\n",
       "      <td>1</td>\n",
       "      <td>6622.26</td>\n",
       "      <td>Others</td>\n",
       "    </tr>\n",
       "    <tr>\n",
       "      <th>14086</th>\n",
       "      <td>579122</td>\n",
       "      <td>30</td>\n",
       "      <td>M</td>\n",
       "      <td>PG</td>\n",
       "      <td>Zootecnista</td>\n",
       "      <td>3</td>\n",
       "      <td>6898.20</td>\n",
       "      <td>Others</td>\n",
       "    </tr>\n",
       "  </tbody>\n",
       "</table>\n",
       "<p>1940 rows × 8 columns</p>\n",
       "</div>"
      ],
      "text/plain": [
       "       Matricula  Idade Sexo Escolaridade                      Cargo  \\\n",
       "0         502511     66    M           PG      Advogado de Contratos   \n",
       "57        565799     34    F     Superior  Analista Adm. - Alimentos   \n",
       "58        573247     48    M     Superior     Analista Adm. - Custos   \n",
       "59        505333     49    M           PG     Analista Adm. - Custos   \n",
       "60        565422     25    F     Superior  Analista Adm. - Logística   \n",
       "...          ...    ...  ...          ...                        ...   \n",
       "13914     508018     52    F     Superior           Vendedor Interno   \n",
       "13915     554379     28    M     Superior           Vendedor Interno   \n",
       "13919     546964     34    F           PG           Vendedor Interno   \n",
       "14085     599220     30    M     Superior                Zootecnista   \n",
       "14086     579122     30    M           PG                Zootecnista   \n",
       "\n",
       "       Anos_experiencia   Salario Job Title  \n",
       "0                    34  11833.93    Others  \n",
       "57                    6   4231.77    Others  \n",
       "58                    4   7942.79    Others  \n",
       "59                   29   6787.96    Others  \n",
       "60                    6   4408.09    Others  \n",
       "...                 ...       ...       ...  \n",
       "13914                24   3068.68    Others  \n",
       "13915                 8   2963.25    Others  \n",
       "13919                 9   2950.51    Others  \n",
       "14085                 1   6622.26    Others  \n",
       "14086                 3   6898.20    Others  \n",
       "\n",
       "[1940 rows x 8 columns]"
      ]
     },
     "execution_count": 26,
     "metadata": {},
     "output_type": "execute_result"
    }
   ],
   "source": [
    "salary_df[salary_df.Salario>upper]"
   ]
  },
  {
   "cell_type": "code",
   "execution_count": 27,
   "id": "61567bd0-6fe5-4314-b3cb-4288096404f0",
   "metadata": {},
   "outputs": [
    {
     "data": {
      "text/html": [
       "<div>\n",
       "<style scoped>\n",
       "    .dataframe tbody tr th:only-of-type {\n",
       "        vertical-align: middle;\n",
       "    }\n",
       "\n",
       "    .dataframe tbody tr th {\n",
       "        vertical-align: top;\n",
       "    }\n",
       "\n",
       "    .dataframe thead th {\n",
       "        text-align: right;\n",
       "    }\n",
       "</style>\n",
       "<table border=\"1\" class=\"dataframe\">\n",
       "  <thead>\n",
       "    <tr style=\"text-align: right;\">\n",
       "      <th></th>\n",
       "      <th>Matricula</th>\n",
       "      <th>Idade</th>\n",
       "      <th>Sexo</th>\n",
       "      <th>Escolaridade</th>\n",
       "      <th>Cargo</th>\n",
       "      <th>Anos_experiencia</th>\n",
       "      <th>Salario</th>\n",
       "      <th>Job Title</th>\n",
       "    </tr>\n",
       "  </thead>\n",
       "  <tbody>\n",
       "    <tr>\n",
       "      <th>10229</th>\n",
       "      <td>597293</td>\n",
       "      <td>18</td>\n",
       "      <td>F</td>\n",
       "      <td>Fundamental</td>\n",
       "      <td>Jovem Aprendiz</td>\n",
       "      <td>1</td>\n",
       "      <td>853.24</td>\n",
       "      <td>Others</td>\n",
       "    </tr>\n",
       "    <tr>\n",
       "      <th>10230</th>\n",
       "      <td>593444</td>\n",
       "      <td>18</td>\n",
       "      <td>F</td>\n",
       "      <td>Fundamental</td>\n",
       "      <td>Jovem Aprendiz</td>\n",
       "      <td>1</td>\n",
       "      <td>853.24</td>\n",
       "      <td>Others</td>\n",
       "    </tr>\n",
       "    <tr>\n",
       "      <th>10231</th>\n",
       "      <td>805922</td>\n",
       "      <td>17</td>\n",
       "      <td>M</td>\n",
       "      <td>Fundamental</td>\n",
       "      <td>Jovem Aprendiz</td>\n",
       "      <td>0</td>\n",
       "      <td>853.24</td>\n",
       "      <td>Others</td>\n",
       "    </tr>\n",
       "    <tr>\n",
       "      <th>10232</th>\n",
       "      <td>806381</td>\n",
       "      <td>18</td>\n",
       "      <td>M</td>\n",
       "      <td>Fundamental</td>\n",
       "      <td>Jovem Aprendiz</td>\n",
       "      <td>0</td>\n",
       "      <td>805.86</td>\n",
       "      <td>Others</td>\n",
       "    </tr>\n",
       "    <tr>\n",
       "      <th>10233</th>\n",
       "      <td>806382</td>\n",
       "      <td>17</td>\n",
       "      <td>F</td>\n",
       "      <td>Fundamental</td>\n",
       "      <td>Jovem Aprendiz</td>\n",
       "      <td>0</td>\n",
       "      <td>805.86</td>\n",
       "      <td>Others</td>\n",
       "    </tr>\n",
       "    <tr>\n",
       "      <th>10234</th>\n",
       "      <td>806383</td>\n",
       "      <td>16</td>\n",
       "      <td>F</td>\n",
       "      <td>Fundamental</td>\n",
       "      <td>Jovem Aprendiz</td>\n",
       "      <td>0</td>\n",
       "      <td>805.86</td>\n",
       "      <td>Others</td>\n",
       "    </tr>\n",
       "    <tr>\n",
       "      <th>10235</th>\n",
       "      <td>806384</td>\n",
       "      <td>17</td>\n",
       "      <td>M</td>\n",
       "      <td>Fundamental</td>\n",
       "      <td>Jovem Aprendiz</td>\n",
       "      <td>0</td>\n",
       "      <td>805.86</td>\n",
       "      <td>Others</td>\n",
       "    </tr>\n",
       "  </tbody>\n",
       "</table>\n",
       "</div>"
      ],
      "text/plain": [
       "       Matricula  Idade Sexo Escolaridade           Cargo  Anos_experiencia  \\\n",
       "10229     597293     18    F  Fundamental  Jovem Aprendiz                 1   \n",
       "10230     593444     18    F  Fundamental  Jovem Aprendiz                 1   \n",
       "10231     805922     17    M  Fundamental  Jovem Aprendiz                 0   \n",
       "10232     806381     18    M  Fundamental  Jovem Aprendiz                 0   \n",
       "10233     806382     17    F  Fundamental  Jovem Aprendiz                 0   \n",
       "10234     806383     16    F  Fundamental  Jovem Aprendiz                 0   \n",
       "10235     806384     17    M  Fundamental  Jovem Aprendiz                 0   \n",
       "\n",
       "       Salario Job Title  \n",
       "10229   853.24    Others  \n",
       "10230   853.24    Others  \n",
       "10231   853.24    Others  \n",
       "10232   805.86    Others  \n",
       "10233   805.86    Others  \n",
       "10234   805.86    Others  \n",
       "10235   805.86    Others  "
      ]
     },
     "execution_count": 27,
     "metadata": {},
     "output_type": "execute_result"
    }
   ],
   "source": [
    "salary_df[salary_df.Salario<lower]"
   ]
  },
  {
   "cell_type": "code",
   "execution_count": 28,
   "id": "a8d89909-a9d1-4aaf-91d4-0154e93cfc38",
   "metadata": {},
   "outputs": [],
   "source": [
    "#Remover outliers\n",
    "salary_df = salary_df[(salary_df.Salario >= lower) & (salary_df.Salario <= upper)]"
   ]
  },
  {
   "cell_type": "code",
   "execution_count": 29,
   "id": "412a6ea3-ac47-4d97-90cb-409e9b2ea85f",
   "metadata": {},
   "outputs": [],
   "source": [
    "# Mapeando Coluna Escolaridade\n",
    "education_mapping = {\"Analfabeto\":0,\"Fundamental\":1,\"Ens. Médio\":2,\"Superior\":3,\"Técnico\":4,\"PG\":5}\n",
    "salary_df['Escolaridade'] = salary_df['Escolaridade'].map(education_mapping)"
   ]
  },
  {
   "cell_type": "code",
   "execution_count": 30,
   "id": "e582a454-656e-458d-a961-de2f079756ad",
   "metadata": {},
   "outputs": [],
   "source": [
    "le = LabelEncoder()\n",
    "salary_df['Sexo'] = le.fit_transform(salary_df['Sexo'])"
   ]
  },
  {
   "cell_type": "code",
   "execution_count": 31,
   "id": "25d99af6-d8b2-41d4-a509-30fed21ccb4d",
   "metadata": {},
   "outputs": [],
   "source": [
    "salary_df= salary_df.drop(\"Matricula\",axis=1)"
   ]
  },
  {
   "cell_type": "code",
   "execution_count": 32,
   "id": "fca4110e-e4b3-4580-bf1d-0d9e1db5e74f",
   "metadata": {},
   "outputs": [
    {
     "data": {
      "text/plain": [
       "<Axes: >"
      ]
     },
     "execution_count": 32,
     "metadata": {},
     "output_type": "execute_result"
    },
    {
     "data": {
      "image/png": "[encoded data removed]",
      "text/plain": [
       "<Figure size 640x480 with 2 Axes>"
      ]
     },
     "metadata": {},
     "output_type": "display_data"
    }
   ],
   "source": [
    "# Grafico de correlação\n",
    "numeric_columns = salary_df.select_dtypes(include=[np.number])\n",
    "sns.heatmap(numeric_columns.corr(), annot=True)"
   ]
  },
  {
   "cell_type": "markdown",
   "id": "f251f9db-8706-4b85-a5ba-602028799d86",
   "metadata": {},
   "source": [
    "Com este gráfico conseguimos verificar que existe uma alta correlação entre salário e escolaridade e também entre salário e anos de experiência. Vemos também que a correlação entre idade\n",
    "e salário é baixa"
   ]
  },
  {
   "cell_type": "code",
   "execution_count": 33,
   "id": "6b6d6ff6-bb07-41f3-9da5-3b0c9c3262df",
   "metadata": {},
   "outputs": [],
   "source": [
    "dummies = pd.get_dummies(salary_df['Cargo'],drop_first=True)\n",
    "salary_df = pd.concat([salary_df,dummies],axis=1)"
   ]
  },
  {
   "cell_type": "code",
   "execution_count": 34,
   "id": "0df7897c-8c45-4327-a290-8b961884872e",
   "metadata": {},
   "outputs": [
    {
     "data": {
      "text/html": [
       "<div>\n",
       "<style scoped>\n",
       "    .dataframe tbody tr th:only-of-type {\n",
       "        vertical-align: middle;\n",
       "    }\n",
       "\n",
       "    .dataframe tbody tr th {\n",
       "        vertical-align: top;\n",
       "    }\n",
       "\n",
       "    .dataframe thead th {\n",
       "        text-align: right;\n",
       "    }\n",
       "</style>\n",
       "<table border=\"1\" class=\"dataframe\">\n",
       "  <thead>\n",
       "    <tr style=\"text-align: right;\">\n",
       "      <th></th>\n",
       "      <th>Idade</th>\n",
       "      <th>Sexo</th>\n",
       "      <th>Escolaridade</th>\n",
       "      <th>Anos_experiencia</th>\n",
       "      <th>Salario</th>\n",
       "      <th>Job Title</th>\n",
       "      <th>Ajudante de Motorista</th>\n",
       "      <th>Analista Adm. - Logística</th>\n",
       "      <th>Analista Comercial</th>\n",
       "      <th>Analista Gestão da Qualidade</th>\n",
       "      <th>...</th>\n",
       "      <th>Trainee</th>\n",
       "      <th>Tratorista</th>\n",
       "      <th>Técnico de Enfermagem</th>\n",
       "      <th>Técnico de Seg. do Trabalho</th>\n",
       "      <th>Vacinador</th>\n",
       "      <th>Vendedor</th>\n",
       "      <th>Vendedor Externo</th>\n",
       "      <th>Vendedor Interno</th>\n",
       "      <th>Vigilante</th>\n",
       "      <th>Zelador</th>\n",
       "    </tr>\n",
       "  </thead>\n",
       "  <tbody>\n",
       "    <tr>\n",
       "      <th>1</th>\n",
       "      <td>47</td>\n",
       "      <td>0</td>\n",
       "      <td>1</td>\n",
       "      <td>9</td>\n",
       "      <td>1773.79</td>\n",
       "      <td>Others</td>\n",
       "      <td>False</td>\n",
       "      <td>False</td>\n",
       "      <td>False</td>\n",
       "      <td>False</td>\n",
       "      <td>...</td>\n",
       "      <td>False</td>\n",
       "      <td>False</td>\n",
       "      <td>False</td>\n",
       "      <td>False</td>\n",
       "      <td>False</td>\n",
       "      <td>False</td>\n",
       "      <td>False</td>\n",
       "      <td>False</td>\n",
       "      <td>False</td>\n",
       "      <td>False</td>\n",
       "    </tr>\n",
       "    <tr>\n",
       "      <th>2</th>\n",
       "      <td>23</td>\n",
       "      <td>1</td>\n",
       "      <td>1</td>\n",
       "      <td>0</td>\n",
       "      <td>1773.79</td>\n",
       "      <td>Others</td>\n",
       "      <td>False</td>\n",
       "      <td>False</td>\n",
       "      <td>False</td>\n",
       "      <td>False</td>\n",
       "      <td>...</td>\n",
       "      <td>False</td>\n",
       "      <td>False</td>\n",
       "      <td>False</td>\n",
       "      <td>False</td>\n",
       "      <td>False</td>\n",
       "      <td>False</td>\n",
       "      <td>False</td>\n",
       "      <td>False</td>\n",
       "      <td>False</td>\n",
       "      <td>False</td>\n",
       "    </tr>\n",
       "    <tr>\n",
       "      <th>3</th>\n",
       "      <td>23</td>\n",
       "      <td>1</td>\n",
       "      <td>1</td>\n",
       "      <td>0</td>\n",
       "      <td>1773.79</td>\n",
       "      <td>Others</td>\n",
       "      <td>False</td>\n",
       "      <td>False</td>\n",
       "      <td>False</td>\n",
       "      <td>False</td>\n",
       "      <td>...</td>\n",
       "      <td>False</td>\n",
       "      <td>False</td>\n",
       "      <td>False</td>\n",
       "      <td>False</td>\n",
       "      <td>False</td>\n",
       "      <td>False</td>\n",
       "      <td>False</td>\n",
       "      <td>False</td>\n",
       "      <td>False</td>\n",
       "      <td>False</td>\n",
       "    </tr>\n",
       "    <tr>\n",
       "      <th>4</th>\n",
       "      <td>53</td>\n",
       "      <td>1</td>\n",
       "      <td>1</td>\n",
       "      <td>21</td>\n",
       "      <td>1872.35</td>\n",
       "      <td>Others</td>\n",
       "      <td>False</td>\n",
       "      <td>False</td>\n",
       "      <td>False</td>\n",
       "      <td>False</td>\n",
       "      <td>...</td>\n",
       "      <td>False</td>\n",
       "      <td>False</td>\n",
       "      <td>False</td>\n",
       "      <td>False</td>\n",
       "      <td>False</td>\n",
       "      <td>False</td>\n",
       "      <td>False</td>\n",
       "      <td>False</td>\n",
       "      <td>False</td>\n",
       "      <td>False</td>\n",
       "    </tr>\n",
       "    <tr>\n",
       "      <th>5</th>\n",
       "      <td>36</td>\n",
       "      <td>1</td>\n",
       "      <td>1</td>\n",
       "      <td>9</td>\n",
       "      <td>1872.35</td>\n",
       "      <td>Others</td>\n",
       "      <td>False</td>\n",
       "      <td>False</td>\n",
       "      <td>False</td>\n",
       "      <td>False</td>\n",
       "      <td>...</td>\n",
       "      <td>False</td>\n",
       "      <td>False</td>\n",
       "      <td>False</td>\n",
       "      <td>False</td>\n",
       "      <td>False</td>\n",
       "      <td>False</td>\n",
       "      <td>False</td>\n",
       "      <td>False</td>\n",
       "      <td>False</td>\n",
       "      <td>False</td>\n",
       "    </tr>\n",
       "  </tbody>\n",
       "</table>\n",
       "<p>5 rows × 104 columns</p>\n",
       "</div>"
      ],
      "text/plain": [
       "   Idade  Sexo  Escolaridade  Anos_experiencia  Salario Job Title  \\\n",
       "1     47     0             1                 9  1773.79    Others   \n",
       "2     23     1             1                 0  1773.79    Others   \n",
       "3     23     1             1                 0  1773.79    Others   \n",
       "4     53     1             1                21  1872.35    Others   \n",
       "5     36     1             1                 9  1872.35    Others   \n",
       "\n",
       "   Ajudante de Motorista  Analista Adm. - Logística  Analista Comercial  \\\n",
       "1                  False                      False               False   \n",
       "2                  False                      False               False   \n",
       "3                  False                      False               False   \n",
       "4                  False                      False               False   \n",
       "5                  False                      False               False   \n",
       "\n",
       "   Analista Gestão da Qualidade  ...  Trainee  Tratorista  \\\n",
       "1                         False  ...    False       False   \n",
       "2                         False  ...    False       False   \n",
       "3                         False  ...    False       False   \n",
       "4                         False  ...    False       False   \n",
       "5                         False  ...    False       False   \n",
       "\n",
       "   Técnico de Enfermagem  Técnico de Seg. do Trabalho  Vacinador  Vendedor  \\\n",
       "1                  False                        False      False     False   \n",
       "2                  False                        False      False     False   \n",
       "3                  False                        False      False     False   \n",
       "4                  False                        False      False     False   \n",
       "5                  False                        False      False     False   \n",
       "\n",
       "   Vendedor Externo  Vendedor Interno  Vigilante  Zelador  \n",
       "1             False             False      False    False  \n",
       "2             False             False      False    False  \n",
       "3             False             False      False    False  \n",
       "4             False             False      False    False  \n",
       "5             False             False      False    False  \n",
       "\n",
       "[5 rows x 104 columns]"
      ]
     },
     "execution_count": 34,
     "metadata": {},
     "output_type": "execute_result"
    }
   ],
   "source": [
    "salary_df.drop('Cargo',inplace=True,axis=1)\n",
    "salary_df.head()"
   ]
  },
  {
   "cell_type": "code",
   "execution_count": 35,
   "id": "15766865-f6f7-4e4a-a04e-041b68920b29",
   "metadata": {},
   "outputs": [],
   "source": [
    "# Separar o dataset em features e target\n",
    "features = salary_df.drop('Salario',axis=1)\n",
    "target = salary_df['Salario']"
   ]
  },
  {
   "cell_type": "markdown",
   "id": "9645c1e8-6c65-4c13-97e8-d24422b7b960",
   "metadata": {},
   "source": [
    "Treinamento algoritmo de previsão"
   ]
  },
  {
   "cell_type": "code",
   "execution_count": 36,
   "id": "d260f3fe-b333-41dc-bded-f7e0989bc078",
   "metadata": {},
   "outputs": [
    {
     "data": {
      "text/plain": [
       "(9105, 141)"
      ]
     },
     "execution_count": 36,
     "metadata": {},
     "output_type": "execute_result"
    }
   ],
   "source": [
    "features_encoded = pd.get_dummies(features)\n",
    "x_train, x_test, y_train, y_test = train_test_split(features_encoded, target, test_size=0.25, random_state=42)\n",
    "x_train.shape"
   ]
  },
  {
   "cell_type": "code",
   "execution_count": 37,
   "id": "2ffba0e4-6c3b-4c53-a0eb-c25456652716",
   "metadata": {},
   "outputs": [],
   "source": [
    "# Criar um dicionario para hyperparameter tuning\n",
    "model_params = {\n",
    "    'Linear_Regression':{\n",
    "        'model':LinearRegression(),\n",
    "        'params':{\n",
    "            \n",
    "        }\n",
    "    },\n",
    "    'Decision_Tree':{\n",
    "        'model':DecisionTreeRegressor(),\n",
    "        'params':{\n",
    "            'max_depth':[2,4,6,8,10],\n",
    "            'random_state':[0,42],\n",
    "            'min_samples_split':[1,5,10,20]\n",
    "        }\n",
    "    },\n",
    "    'Random_Forest':{\n",
    "        'model':RandomForestRegressor(),\n",
    "        'params':{\n",
    "            'n_estimators':[10,30,20,50,80]\n",
    "        }\n",
    "    }\n",
    "}"
   ]
  },
  {
   "cell_type": "code",
   "execution_count": 38,
   "id": "ca1736d6-06d7-4c46-acce-ce2e75420ea2",
   "metadata": {},
   "outputs": [
    {
     "data": {
      "text/html": [
       "<div>\n",
       "<style scoped>\n",
       "    .dataframe tbody tr th:only-of-type {\n",
       "        vertical-align: middle;\n",
       "    }\n",
       "\n",
       "    .dataframe tbody tr th {\n",
       "        vertical-align: top;\n",
       "    }\n",
       "\n",
       "    .dataframe thead th {\n",
       "        text-align: right;\n",
       "    }\n",
       "</style>\n",
       "<table border=\"1\" class=\"dataframe\">\n",
       "  <thead>\n",
       "    <tr style=\"text-align: right;\">\n",
       "      <th></th>\n",
       "      <th>Model</th>\n",
       "      <th>Params</th>\n",
       "      <th>MSE(-ve)</th>\n",
       "    </tr>\n",
       "  </thead>\n",
       "  <tbody>\n",
       "    <tr>\n",
       "      <th>0</th>\n",
       "      <td>Linear_Regression</td>\n",
       "      <td>{}</td>\n",
       "      <td>-1.080819e+21</td>\n",
       "    </tr>\n",
       "    <tr>\n",
       "      <th>1</th>\n",
       "      <td>Decision_Tree</td>\n",
       "      <td>{'max_depth': 10, 'min_samples_split': 20, 'ra...</td>\n",
       "      <td>-2.128875e+04</td>\n",
       "    </tr>\n",
       "    <tr>\n",
       "      <th>2</th>\n",
       "      <td>Random_Forest</td>\n",
       "      <td>{'n_estimators': 80}</td>\n",
       "      <td>-1.237391e+04</td>\n",
       "    </tr>\n",
       "  </tbody>\n",
       "</table>\n",
       "</div>"
      ],
      "text/plain": [
       "               Model                                             Params  \\\n",
       "0  Linear_Regression                                                 {}   \n",
       "1      Decision_Tree  {'max_depth': 10, 'min_samples_split': 20, 'ra...   \n",
       "2      Random_Forest                               {'n_estimators': 80}   \n",
       "\n",
       "       MSE(-ve)  \n",
       "0 -1.080819e+21  \n",
       "1 -2.128875e+04  \n",
       "2 -1.237391e+04  "
      ]
     },
     "execution_count": 38,
     "metadata": {},
     "output_type": "execute_result"
    }
   ],
   "source": [
    "# Hyper parameter tuning through grid search cv\n",
    "score=[]\n",
    "\n",
    "for model_name,m in model_params.items():\n",
    "    clf = GridSearchCV(m['model'],m['params'],cv=5,scoring='neg_mean_squared_error')\n",
    "    clf.fit(x_train,y_train)\n",
    "    \n",
    "    score.append({\n",
    "        'Model':model_name,\n",
    "        'Params':clf.best_params_,\n",
    "        'MSE(-ve)':clf.best_score_\n",
    "    })\n",
    "pd.DataFrame(score)    "
   ]
  },
  {
   "cell_type": "markdown",
   "id": "5656b45f-7502-4014-a25e-0b1b74f5ca0a",
   "metadata": {},
   "source": [
    "Com base apenas no MSE (Erro Quadrático Médio) negativo, a escolha seria o modelo \"Random Forest\", pois possui o menor valor de MSE negativo entre os modelos apresentados. "
   ]
  },
  {
   "cell_type": "code",
   "execution_count": 39,
   "id": "fb961eae-ee3f-4a7a-a9bc-749826f24bed",
   "metadata": {},
   "outputs": [
    {
     "data": {
      "text/html": [
       "<div>\n",
       "<style scoped>\n",
       "    .dataframe tbody tr th:only-of-type {\n",
       "        vertical-align: middle;\n",
       "    }\n",
       "\n",
       "    .dataframe tbody tr th {\n",
       "        vertical-align: top;\n",
       "    }\n",
       "\n",
       "    .dataframe thead th {\n",
       "        text-align: right;\n",
       "    }\n",
       "</style>\n",
       "<table border=\"1\" class=\"dataframe\">\n",
       "  <thead>\n",
       "    <tr style=\"text-align: right;\">\n",
       "      <th></th>\n",
       "      <th>Model</th>\n",
       "      <th>Params</th>\n",
       "      <th>MSE(-ve)</th>\n",
       "    </tr>\n",
       "  </thead>\n",
       "  <tbody>\n",
       "    <tr>\n",
       "      <th>2</th>\n",
       "      <td>Random_Forest</td>\n",
       "      <td>{'n_estimators': 80}</td>\n",
       "      <td>-1.237391e+04</td>\n",
       "    </tr>\n",
       "    <tr>\n",
       "      <th>1</th>\n",
       "      <td>Decision_Tree</td>\n",
       "      <td>{'max_depth': 10, 'min_samples_split': 20, 'ra...</td>\n",
       "      <td>-2.128875e+04</td>\n",
       "    </tr>\n",
       "    <tr>\n",
       "      <th>0</th>\n",
       "      <td>Linear_Regression</td>\n",
       "      <td>{}</td>\n",
       "      <td>-1.080819e+21</td>\n",
       "    </tr>\n",
       "  </tbody>\n",
       "</table>\n",
       "</div>"
      ],
      "text/plain": [
       "               Model                                             Params  \\\n",
       "2      Random_Forest                               {'n_estimators': 80}   \n",
       "1      Decision_Tree  {'max_depth': 10, 'min_samples_split': 20, 'ra...   \n",
       "0  Linear_Regression                                                 {}   \n",
       "\n",
       "       MSE(-ve)  \n",
       "2 -1.237391e+04  \n",
       "1 -2.128875e+04  \n",
       "0 -1.080819e+21  "
      ]
     },
     "execution_count": 39,
     "metadata": {},
     "output_type": "execute_result"
    }
   ],
   "source": [
    "# Order of the best models \n",
    "s = pd.DataFrame(score)\n",
    "sort = s.sort_values(by = 'MSE(-ve)',ascending=False)\n",
    "sort"
   ]
  },
  {
   "cell_type": "markdown",
   "id": "8acbe60a-b534-4721-a0c1-a2f486629621",
   "metadata": {},
   "source": [
    "Avaliação dos Modelos"
   ]
  },
  {
   "cell_type": "markdown",
   "id": "0a8dec46-44fc-456d-bf42-1cd745f8f4be",
   "metadata": {},
   "source": [
    "Random Forest"
   ]
  },
  {
   "cell_type": "code",
   "execution_count": 65,
   "id": "0ce2f7b0-d6e2-45bc-bd15-eac2df796b0b",
   "metadata": {},
   "outputs": [
    {
     "data": {
      "text/html": [
       "<style>#sk-container-id-10 {color: black;}#sk-container-id-10 pre{padding: 0;}#sk-container-id-10 div.sk-toggleable {background-color: white;}#sk-container-id-10 label.sk-toggleable__label {cursor: pointer;display: block;width: 100%;margin-bottom: 0;padding: 0.3em;box-sizing: border-box;text-align: center;}#sk-container-id-10 label.sk-toggleable__label-arrow:before {content: \"▸\";float: left;margin-right: 0.25em;color: #696969;}#sk-container-id-10 label.sk-toggleable__label-arrow:hover:before {color: black;}#sk-container-id-10 div.sk-estimator:hover label.sk-toggleable__label-arrow:before {color: black;}#sk-container-id-10 div.sk-toggleable__content {max-height: 0;max-width: 0;overflow: hidden;text-align: left;background-color: #f0f8ff;}#sk-container-id-10 div.sk-toggleable__content pre {margin: 0.2em;color: black;border-radius: 0.25em;background-color: #f0f8ff;}#sk-container-id-10 input.sk-toggleable__control:checked~div.sk-toggleable__content {max-height: 200px;max-width: 100%;overflow: auto;}#sk-container-id-10 input.sk-toggleable__control:checked~label.sk-toggleable__label-arrow:before {content: \"▾\";}#sk-container-id-10 div.sk-estimator input.sk-toggleable__control:checked~label.sk-toggleable__label {background-color: #d4ebff;}#sk-container-id-10 div.sk-label input.sk-toggleable__control:checked~label.sk-toggleable__label {background-color: #d4ebff;}#sk-container-id-10 input.sk-hidden--visually {border: 0;clip: rect(1px 1px 1px 1px);clip: rect(1px, 1px, 1px, 1px);height: 1px;margin: -1px;overflow: hidden;padding: 0;position: absolute;width: 1px;}#sk-container-id-10 div.sk-estimator {font-family: monospace;background-color: #f0f8ff;border: 1px dotted black;border-radius: 0.25em;box-sizing: border-box;margin-bottom: 0.5em;}#sk-container-id-10 div.sk-estimator:hover {background-color: #d4ebff;}#sk-container-id-10 div.sk-parallel-item::after {content: \"\";width: 100%;border-bottom: 1px solid gray;flex-grow: 1;}#sk-container-id-10 div.sk-label:hover label.sk-toggleable__label {background-color: #d4ebff;}#sk-container-id-10 div.sk-serial::before {content: \"\";position: absolute;border-left: 1px solid gray;box-sizing: border-box;top: 0;bottom: 0;left: 50%;z-index: 0;}#sk-container-id-10 div.sk-serial {display: flex;flex-direction: column;align-items: center;background-color: white;padding-right: 0.2em;padding-left: 0.2em;position: relative;}#sk-container-id-10 div.sk-item {position: relative;z-index: 1;}#sk-container-id-10 div.sk-parallel {display: flex;align-items: stretch;justify-content: center;background-color: white;position: relative;}#sk-container-id-10 div.sk-item::before, #sk-container-id-10 div.sk-parallel-item::before {content: \"\";position: absolute;border-left: 1px solid gray;box-sizing: border-box;top: 0;bottom: 0;left: 50%;z-index: -1;}#sk-container-id-10 div.sk-parallel-item {display: flex;flex-direction: column;z-index: 1;position: relative;background-color: white;}#sk-container-id-10 div.sk-parallel-item:first-child::after {align-self: flex-end;width: 50%;}#sk-container-id-10 div.sk-parallel-item:last-child::after {align-self: flex-start;width: 50%;}#sk-container-id-10 div.sk-parallel-item:only-child::after {width: 0;}#sk-container-id-10 div.sk-dashed-wrapped {border: 1px dashed gray;margin: 0 0.4em 0.5em 0.4em;box-sizing: border-box;padding-bottom: 0.4em;background-color: white;}#sk-container-id-10 div.sk-label label {font-family: monospace;font-weight: bold;display: inline-block;line-height: 1.2em;}#sk-container-id-10 div.sk-label-container {text-align: center;}#sk-container-id-10 div.sk-container {/* jupyter's `normalize.less` sets `[hidden] { display: none; }` but bootstrap.min.css set `[hidden] { display: none !important; }` so we also need the `!important` here to be able to override the default hidden behavior on the sphinx rendered scikit-learn.org. See: https://github.com/scikit-learn/scikit-learn/issues/21755 */display: inline-block !important;position: relative;}#sk-container-id-10 div.sk-text-repr-fallback {display: none;}</style><div id=\"sk-container-id-10\" class=\"sk-top-container\"><div class=\"sk-text-repr-fallback\"><pre>RandomForestRegressor(n_estimators=35)</pre><b>In a Jupyter environment, please rerun this cell to show the HTML representation or trust the notebook. <br />On GitHub, the HTML representation is unable to render, please try loading this page with nbviewer.org.</b></div><div class=\"sk-container\" hidden><div class=\"sk-item\"><div class=\"sk-estimator sk-toggleable\"><input class=\"sk-toggleable__control sk-hidden--visually\" id=\"sk-estimator-id-10\" type=\"checkbox\" checked><label for=\"sk-estimator-id-10\" class=\"sk-toggleable__label sk-toggleable__label-arrow\">RandomForestRegressor</label><div class=\"sk-toggleable__content\"><pre>RandomForestRegressor(n_estimators=35)</pre></div></div></div></div></div>"
      ],
      "text/plain": [
       "RandomForestRegressor(n_estimators=35)"
      ]
     },
     "execution_count": 65,
     "metadata": {},
     "output_type": "execute_result"
    }
   ],
   "source": [
    "# Random Forest model\n",
    "rfr = RandomForestRegressor(n_estimators=35)\n",
    "rfr.fit(x_train,y_train)"
   ]
  },
  {
   "cell_type": "code",
   "execution_count": 66,
   "id": "dfdf321f-a5bf-4c06-b8c3-13ee258ad464",
   "metadata": {},
   "outputs": [
    {
     "data": {
      "text/plain": [
       "0.7785138022062603"
      ]
     },
     "execution_count": 66,
     "metadata": {},
     "output_type": "execute_result"
    }
   ],
   "source": [
    "rfr.score(x_test,y_test)"
   ]
  },
  {
   "cell_type": "code",
   "execution_count": 67,
   "id": "89542ee2-6a98-4b35-a55e-74e514c488f4",
   "metadata": {},
   "outputs": [],
   "source": [
    "y_pred_rfr = rfr.predict(x_test)"
   ]
  },
  {
   "cell_type": "code",
   "execution_count": 68,
   "id": "6fd2508e-1938-44fb-87a6-b0e601ab55b4",
   "metadata": {},
   "outputs": [
    {
     "name": "stdout",
     "output_type": "stream",
     "text": [
      "Mean Squared Error : 12418.411392685177\n",
      "Mean Absolute Error : 51.681695466284\n",
      "Root Mean Squared Error : 111.43792618621892\n"
     ]
    }
   ],
   "source": [
    "print(\"Mean Squared Error :\",mean_squared_error(y_test,y_pred_rfr))\n",
    "print(\"Mean Absolute Error :\",mean_absolute_error(y_test,y_pred_rfr))\n",
    "print(\"Root Mean Squared Error :\",mean_squared_error(y_test,y_pred_rfr,squared=False))"
   ]
  },
  {
   "cell_type": "markdown",
   "id": "dae4d3f0-96b4-4369-bb81-548bb8eb921a",
   "metadata": {},
   "source": [
    "Decision tree"
   ]
  },
  {
   "cell_type": "code",
   "execution_count": 44,
   "id": "3f5d52b9-5218-403e-a87f-d8fea4ae4b9d",
   "metadata": {},
   "outputs": [
    {
     "data": {
      "text/html": [
       "<style>#sk-container-id-2 {color: black;}#sk-container-id-2 pre{padding: 0;}#sk-container-id-2 div.sk-toggleable {background-color: white;}#sk-container-id-2 label.sk-toggleable__label {cursor: pointer;display: block;width: 100%;margin-bottom: 0;padding: 0.3em;box-sizing: border-box;text-align: center;}#sk-container-id-2 label.sk-toggleable__label-arrow:before {content: \"▸\";float: left;margin-right: 0.25em;color: #696969;}#sk-container-id-2 label.sk-toggleable__label-arrow:hover:before {color: black;}#sk-container-id-2 div.sk-estimator:hover label.sk-toggleable__label-arrow:before {color: black;}#sk-container-id-2 div.sk-toggleable__content {max-height: 0;max-width: 0;overflow: hidden;text-align: left;background-color: #f0f8ff;}#sk-container-id-2 div.sk-toggleable__content pre {margin: 0.2em;color: black;border-radius: 0.25em;background-color: #f0f8ff;}#sk-container-id-2 input.sk-toggleable__control:checked~div.sk-toggleable__content {max-height: 200px;max-width: 100%;overflow: auto;}#sk-container-id-2 input.sk-toggleable__control:checked~label.sk-toggleable__label-arrow:before {content: \"▾\";}#sk-container-id-2 div.sk-estimator input.sk-toggleable__control:checked~label.sk-toggleable__label {background-color: #d4ebff;}#sk-container-id-2 div.sk-label input.sk-toggleable__control:checked~label.sk-toggleable__label {background-color: #d4ebff;}#sk-container-id-2 input.sk-hidden--visually {border: 0;clip: rect(1px 1px 1px 1px);clip: rect(1px, 1px, 1px, 1px);height: 1px;margin: -1px;overflow: hidden;padding: 0;position: absolute;width: 1px;}#sk-container-id-2 div.sk-estimator {font-family: monospace;background-color: #f0f8ff;border: 1px dotted black;border-radius: 0.25em;box-sizing: border-box;margin-bottom: 0.5em;}#sk-container-id-2 div.sk-estimator:hover {background-color: #d4ebff;}#sk-container-id-2 div.sk-parallel-item::after {content: \"\";width: 100%;border-bottom: 1px solid gray;flex-grow: 1;}#sk-container-id-2 div.sk-label:hover label.sk-toggleable__label {background-color: #d4ebff;}#sk-container-id-2 div.sk-serial::before {content: \"\";position: absolute;border-left: 1px solid gray;box-sizing: border-box;top: 0;bottom: 0;left: 50%;z-index: 0;}#sk-container-id-2 div.sk-serial {display: flex;flex-direction: column;align-items: center;background-color: white;padding-right: 0.2em;padding-left: 0.2em;position: relative;}#sk-container-id-2 div.sk-item {position: relative;z-index: 1;}#sk-container-id-2 div.sk-parallel {display: flex;align-items: stretch;justify-content: center;background-color: white;position: relative;}#sk-container-id-2 div.sk-item::before, #sk-container-id-2 div.sk-parallel-item::before {content: \"\";position: absolute;border-left: 1px solid gray;box-sizing: border-box;top: 0;bottom: 0;left: 50%;z-index: -1;}#sk-container-id-2 div.sk-parallel-item {display: flex;flex-direction: column;z-index: 1;position: relative;background-color: white;}#sk-container-id-2 div.sk-parallel-item:first-child::after {align-self: flex-end;width: 50%;}#sk-container-id-2 div.sk-parallel-item:last-child::after {align-self: flex-start;width: 50%;}#sk-container-id-2 div.sk-parallel-item:only-child::after {width: 0;}#sk-container-id-2 div.sk-dashed-wrapped {border: 1px dashed gray;margin: 0 0.4em 0.5em 0.4em;box-sizing: border-box;padding-bottom: 0.4em;background-color: white;}#sk-container-id-2 div.sk-label label {font-family: monospace;font-weight: bold;display: inline-block;line-height: 1.2em;}#sk-container-id-2 div.sk-label-container {text-align: center;}#sk-container-id-2 div.sk-container {/* jupyter's `normalize.less` sets `[hidden] { display: none; }` but bootstrap.min.css set `[hidden] { display: none !important; }` so we also need the `!important` here to be able to override the default hidden behavior on the sphinx rendered scikit-learn.org. See: https://github.com/scikit-learn/scikit-learn/issues/21755 */display: inline-block !important;position: relative;}#sk-container-id-2 div.sk-text-repr-fallback {display: none;}</style><div id=\"sk-container-id-2\" class=\"sk-top-container\"><div class=\"sk-text-repr-fallback\"><pre>DecisionTreeRegressor(max_depth=10, random_state=0)</pre><b>In a Jupyter environment, please rerun this cell to show the HTML representation or trust the notebook. <br />On GitHub, the HTML representation is unable to render, please try loading this page with nbviewer.org.</b></div><div class=\"sk-container\" hidden><div class=\"sk-item\"><div class=\"sk-estimator sk-toggleable\"><input class=\"sk-toggleable__control sk-hidden--visually\" id=\"sk-estimator-id-2\" type=\"checkbox\" checked><label for=\"sk-estimator-id-2\" class=\"sk-toggleable__label sk-toggleable__label-arrow\">DecisionTreeRegressor</label><div class=\"sk-toggleable__content\"><pre>DecisionTreeRegressor(max_depth=10, random_state=0)</pre></div></div></div></div></div>"
      ],
      "text/plain": [
       "DecisionTreeRegressor(max_depth=10, random_state=0)"
      ]
     },
     "execution_count": 44,
     "metadata": {},
     "output_type": "execute_result"
    }
   ],
   "source": [
    "# Decision Tree model\n",
    "dtr = DecisionTreeRegressor(max_depth=10,min_samples_split=2,random_state=0)\n",
    "dtr.fit(x_train,y_train)"
   ]
  },
  {
   "cell_type": "code",
   "execution_count": 45,
   "id": "b1ece26a-e14a-4bcf-affe-0f49eb32c3d8",
   "metadata": {},
   "outputs": [
    {
     "data": {
      "text/plain": [
       "0.6046862514514884"
      ]
     },
     "execution_count": 45,
     "metadata": {},
     "output_type": "execute_result"
    }
   ],
   "source": [
    "dtr.score(x_test,y_test)"
   ]
  },
  {
   "cell_type": "code",
   "execution_count": 46,
   "id": "7b4dcb37-aca7-48ea-8a01-4dddc8212c67",
   "metadata": {},
   "outputs": [],
   "source": [
    "y_pred_dtr = dtr.predict(x_test)"
   ]
  },
  {
   "cell_type": "code",
   "execution_count": 47,
   "id": "015adda5-e419-4a5b-a8f3-c2ce7901059d",
   "metadata": {},
   "outputs": [
    {
     "name": "stdout",
     "output_type": "stream",
     "text": [
      "Mean Squared Error : 22164.67124164375\n",
      "Mean Absolute Error : 79.52211541563396\n",
      "Root Mean Squared Error : 148.87804150257938\n"
     ]
    }
   ],
   "source": [
    "print(\"Mean Squared Error :\",mean_squared_error(y_test,y_pred_dtr))\n",
    "print(\"Mean Absolute Error :\",mean_absolute_error(y_test,y_pred_dtr))\n",
    "print(\"Root Mean Squared Error :\",mean_squared_error(y_test,y_pred_dtr,squared=False))"
   ]
  },
  {
   "cell_type": "markdown",
   "id": "a7c05fec-56d9-43a3-af5a-c0189091d591",
   "metadata": {},
   "source": [
    "Linear Regression"
   ]
  },
  {
   "cell_type": "code",
   "execution_count": 48,
   "id": "658ef47f-e623-450f-ab03-1c68a635072e",
   "metadata": {},
   "outputs": [
    {
     "data": {
      "text/html": [
       "<style>#sk-container-id-3 {color: black;}#sk-container-id-3 pre{padding: 0;}#sk-container-id-3 div.sk-toggleable {background-color: white;}#sk-container-id-3 label.sk-toggleable__label {cursor: pointer;display: block;width: 100%;margin-bottom: 0;padding: 0.3em;box-sizing: border-box;text-align: center;}#sk-container-id-3 label.sk-toggleable__label-arrow:before {content: \"▸\";float: left;margin-right: 0.25em;color: #696969;}#sk-container-id-3 label.sk-toggleable__label-arrow:hover:before {color: black;}#sk-container-id-3 div.sk-estimator:hover label.sk-toggleable__label-arrow:before {color: black;}#sk-container-id-3 div.sk-toggleable__content {max-height: 0;max-width: 0;overflow: hidden;text-align: left;background-color: #f0f8ff;}#sk-container-id-3 div.sk-toggleable__content pre {margin: 0.2em;color: black;border-radius: 0.25em;background-color: #f0f8ff;}#sk-container-id-3 input.sk-toggleable__control:checked~div.sk-toggleable__content {max-height: 200px;max-width: 100%;overflow: auto;}#sk-container-id-3 input.sk-toggleable__control:checked~label.sk-toggleable__label-arrow:before {content: \"▾\";}#sk-container-id-3 div.sk-estimator input.sk-toggleable__control:checked~label.sk-toggleable__label {background-color: #d4ebff;}#sk-container-id-3 div.sk-label input.sk-toggleable__control:checked~label.sk-toggleable__label {background-color: #d4ebff;}#sk-container-id-3 input.sk-hidden--visually {border: 0;clip: rect(1px 1px 1px 1px);clip: rect(1px, 1px, 1px, 1px);height: 1px;margin: -1px;overflow: hidden;padding: 0;position: absolute;width: 1px;}#sk-container-id-3 div.sk-estimator {font-family: monospace;background-color: #f0f8ff;border: 1px dotted black;border-radius: 0.25em;box-sizing: border-box;margin-bottom: 0.5em;}#sk-container-id-3 div.sk-estimator:hover {background-color: #d4ebff;}#sk-container-id-3 div.sk-parallel-item::after {content: \"\";width: 100%;border-bottom: 1px solid gray;flex-grow: 1;}#sk-container-id-3 div.sk-label:hover label.sk-toggleable__label {background-color: #d4ebff;}#sk-container-id-3 div.sk-serial::before {content: \"\";position: absolute;border-left: 1px solid gray;box-sizing: border-box;top: 0;bottom: 0;left: 50%;z-index: 0;}#sk-container-id-3 div.sk-serial {display: flex;flex-direction: column;align-items: center;background-color: white;padding-right: 0.2em;padding-left: 0.2em;position: relative;}#sk-container-id-3 div.sk-item {position: relative;z-index: 1;}#sk-container-id-3 div.sk-parallel {display: flex;align-items: stretch;justify-content: center;background-color: white;position: relative;}#sk-container-id-3 div.sk-item::before, #sk-container-id-3 div.sk-parallel-item::before {content: \"\";position: absolute;border-left: 1px solid gray;box-sizing: border-box;top: 0;bottom: 0;left: 50%;z-index: -1;}#sk-container-id-3 div.sk-parallel-item {display: flex;flex-direction: column;z-index: 1;position: relative;background-color: white;}#sk-container-id-3 div.sk-parallel-item:first-child::after {align-self: flex-end;width: 50%;}#sk-container-id-3 div.sk-parallel-item:last-child::after {align-self: flex-start;width: 50%;}#sk-container-id-3 div.sk-parallel-item:only-child::after {width: 0;}#sk-container-id-3 div.sk-dashed-wrapped {border: 1px dashed gray;margin: 0 0.4em 0.5em 0.4em;box-sizing: border-box;padding-bottom: 0.4em;background-color: white;}#sk-container-id-3 div.sk-label label {font-family: monospace;font-weight: bold;display: inline-block;line-height: 1.2em;}#sk-container-id-3 div.sk-label-container {text-align: center;}#sk-container-id-3 div.sk-container {/* jupyter's `normalize.less` sets `[hidden] { display: none; }` but bootstrap.min.css set `[hidden] { display: none !important; }` so we also need the `!important` here to be able to override the default hidden behavior on the sphinx rendered scikit-learn.org. See: https://github.com/scikit-learn/scikit-learn/issues/21755 */display: inline-block !important;position: relative;}#sk-container-id-3 div.sk-text-repr-fallback {display: none;}</style><div id=\"sk-container-id-3\" class=\"sk-top-container\"><div class=\"sk-text-repr-fallback\"><pre>LinearRegression()</pre><b>In a Jupyter environment, please rerun this cell to show the HTML representation or trust the notebook. <br />On GitHub, the HTML representation is unable to render, please try loading this page with nbviewer.org.</b></div><div class=\"sk-container\" hidden><div class=\"sk-item\"><div class=\"sk-estimator sk-toggleable\"><input class=\"sk-toggleable__control sk-hidden--visually\" id=\"sk-estimator-id-3\" type=\"checkbox\" checked><label for=\"sk-estimator-id-3\" class=\"sk-toggleable__label sk-toggleable__label-arrow\">LinearRegression</label><div class=\"sk-toggleable__content\"><pre>LinearRegression()</pre></div></div></div></div></div>"
      ],
      "text/plain": [
       "LinearRegression()"
      ]
     },
     "execution_count": 48,
     "metadata": {},
     "output_type": "execute_result"
    }
   ],
   "source": [
    "# Linear regression model\n",
    "lr = LinearRegression()\n",
    "lr.fit(x_train,y_train)"
   ]
  },
  {
   "cell_type": "code",
   "execution_count": 49,
   "id": "7d75820e-b064-418c-a8d8-6c6c290d1034",
   "metadata": {},
   "outputs": [
    {
     "data": {
      "text/plain": [
       "0.8228096508919608"
      ]
     },
     "execution_count": 49,
     "metadata": {},
     "output_type": "execute_result"
    }
   ],
   "source": [
    "lr.score(x_test,y_test)"
   ]
  },
  {
   "cell_type": "code",
   "execution_count": 50,
   "id": "0b5d42d2-4190-4d76-a38f-ffec5ffc4f88",
   "metadata": {},
   "outputs": [],
   "source": [
    "y_pred_lr = lr.predict(x_test)"
   ]
  },
  {
   "cell_type": "code",
   "execution_count": 51,
   "id": "3eae0073-0597-4c1c-b682-cca8cde9529f",
   "metadata": {},
   "outputs": [
    {
     "name": "stdout",
     "output_type": "stream",
     "text": [
      "Mean Squared Error : 9934.807098392177\n",
      "Mean Absolute Error : 54.26394942500383\n",
      "Root Mean Squared Error : 99.6735024888369\n"
     ]
    }
   ],
   "source": [
    "print(\"Mean Squared Error :\",mean_squared_error(y_test,y_pred_lr))\n",
    "print(\"Mean Absolute Error :\",mean_absolute_error(y_test,y_pred_lr))\n",
    "print(\"Root Mean Squared Error :\",mean_squared_error(y_test,y_pred_lr,squared=False))"
   ]
  }
 ],
 "metadata": {
  "kernelspec": {
   "display_name": "Python 3 (ipykernel)",
   "language": "python",
   "name": "python3"
  },
  "language_info": {
   "codemirror_mode": {
    "name": "ipython",
    "version": 3
   },
   "file_extension": ".py",
   "mimetype": "text/x-python",
   "name": "python",
   "nbconvert_exporter": "python",
   "pygments_lexer": "ipython3",
   "version": "3.11.4"
  }
 },
 "nbformat": 4,
 "nbformat_minor": 5
}
